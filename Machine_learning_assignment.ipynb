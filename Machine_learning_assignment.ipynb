{
  "nbformat": 4,
  "nbformat_minor": 0,
  "metadata": {
    "colab": {
      "provenance": []
    },
    "kernelspec": {
      "name": "python3",
      "display_name": "Python 3"
    },
    "language_info": {
      "name": "python"
    }
  },
  "cells": [
    {
      "cell_type": "code",
      "execution_count": null,
      "metadata": {
        "colab": {
          "base_uri": "https://localhost:8080/"
        },
        "id": "W2Kgisv7VIEE",
        "outputId": "47ee3f5f-f97b-4774-9877-255f79662063"
      },
      "outputs": [
        {
          "output_type": "stream",
          "name": "stdout",
          "text": [
            "Requirement already satisfied: pandas in /usr/local/lib/python3.10/dist-packages (2.2.2)\n",
            "Requirement already satisfied: numpy in /usr/local/lib/python3.10/dist-packages (1.26.4)\n",
            "Requirement already satisfied: scikit-learn in /usr/local/lib/python3.10/dist-packages (1.6.0)\n",
            "Requirement already satisfied: matplotlib in /usr/local/lib/python3.10/dist-packages (3.8.0)\n",
            "Requirement already satisfied: seaborn in /usr/local/lib/python3.10/dist-packages (0.13.2)\n",
            "Requirement already satisfied: python-dateutil>=2.8.2 in /usr/local/lib/python3.10/dist-packages (from pandas) (2.8.2)\n",
            "Requirement already satisfied: pytz>=2020.1 in /usr/local/lib/python3.10/dist-packages (from pandas) (2024.2)\n",
            "Requirement already satisfied: tzdata>=2022.7 in /usr/local/lib/python3.10/dist-packages (from pandas) (2024.2)\n",
            "Requirement already satisfied: scipy>=1.6.0 in /usr/local/lib/python3.10/dist-packages (from scikit-learn) (1.13.1)\n",
            "Requirement already satisfied: joblib>=1.2.0 in /usr/local/lib/python3.10/dist-packages (from scikit-learn) (1.4.2)\n",
            "Requirement already satisfied: threadpoolctl>=3.1.0 in /usr/local/lib/python3.10/dist-packages (from scikit-learn) (3.5.0)\n",
            "Requirement already satisfied: contourpy>=1.0.1 in /usr/local/lib/python3.10/dist-packages (from matplotlib) (1.3.1)\n",
            "Requirement already satisfied: cycler>=0.10 in /usr/local/lib/python3.10/dist-packages (from matplotlib) (0.12.1)\n",
            "Requirement already satisfied: fonttools>=4.22.0 in /usr/local/lib/python3.10/dist-packages (from matplotlib) (4.55.3)\n",
            "Requirement already satisfied: kiwisolver>=1.0.1 in /usr/local/lib/python3.10/dist-packages (from matplotlib) (1.4.7)\n",
            "Requirement already satisfied: packaging>=20.0 in /usr/local/lib/python3.10/dist-packages (from matplotlib) (24.2)\n",
            "Requirement already satisfied: pillow>=6.2.0 in /usr/local/lib/python3.10/dist-packages (from matplotlib) (11.0.0)\n",
            "Requirement already satisfied: pyparsing>=2.3.1 in /usr/local/lib/python3.10/dist-packages (from matplotlib) (3.2.0)\n",
            "Requirement already satisfied: six>=1.5 in /usr/local/lib/python3.10/dist-packages (from python-dateutil>=2.8.2->pandas) (1.17.0)\n"
          ]
        }
      ],
      "source": [
        "!pip install pandas numpy scikit-learn matplotlib seaborn\n"
      ]
    },
    {
      "cell_type": "code",
      "source": [
        "from google.colab import files\n",
        "\n",
        "# Kaggle API Key 업로드\n",
        "files.upload()  # 파일 선택 창이 나타나면 kaggle.json 파일을 업로드\n"
      ],
      "metadata": {
        "colab": {
          "base_uri": "https://localhost:8080/",
          "height": 93
        },
        "id": "LXxkrnRsXaUv",
        "outputId": "9fd39ae7-2192-44fa-d4d0-5f3f1bc62cbf"
      },
      "execution_count": null,
      "outputs": [
        {
          "output_type": "display_data",
          "data": {
            "text/plain": [
              "<IPython.core.display.HTML object>"
            ],
            "text/html": [
              "\n",
              "     <input type=\"file\" id=\"files-b77a6823-f64a-4855-93e9-22fd97ddfd22\" name=\"files[]\" multiple disabled\n",
              "        style=\"border:none\" />\n",
              "     <output id=\"result-b77a6823-f64a-4855-93e9-22fd97ddfd22\">\n",
              "      Upload widget is only available when the cell has been executed in the\n",
              "      current browser session. Please rerun this cell to enable.\n",
              "      </output>\n",
              "      <script>// Copyright 2017 Google LLC\n",
              "//\n",
              "// Licensed under the Apache License, Version 2.0 (the \"License\");\n",
              "// you may not use this file except in compliance with the License.\n",
              "// You may obtain a copy of the License at\n",
              "//\n",
              "//      http://www.apache.org/licenses/LICENSE-2.0\n",
              "//\n",
              "// Unless required by applicable law or agreed to in writing, software\n",
              "// distributed under the License is distributed on an \"AS IS\" BASIS,\n",
              "// WITHOUT WARRANTIES OR CONDITIONS OF ANY KIND, either express or implied.\n",
              "// See the License for the specific language governing permissions and\n",
              "// limitations under the License.\n",
              "\n",
              "/**\n",
              " * @fileoverview Helpers for google.colab Python module.\n",
              " */\n",
              "(function(scope) {\n",
              "function span(text, styleAttributes = {}) {\n",
              "  const element = document.createElement('span');\n",
              "  element.textContent = text;\n",
              "  for (const key of Object.keys(styleAttributes)) {\n",
              "    element.style[key] = styleAttributes[key];\n",
              "  }\n",
              "  return element;\n",
              "}\n",
              "\n",
              "// Max number of bytes which will be uploaded at a time.\n",
              "const MAX_PAYLOAD_SIZE = 100 * 1024;\n",
              "\n",
              "function _uploadFiles(inputId, outputId) {\n",
              "  const steps = uploadFilesStep(inputId, outputId);\n",
              "  const outputElement = document.getElementById(outputId);\n",
              "  // Cache steps on the outputElement to make it available for the next call\n",
              "  // to uploadFilesContinue from Python.\n",
              "  outputElement.steps = steps;\n",
              "\n",
              "  return _uploadFilesContinue(outputId);\n",
              "}\n",
              "\n",
              "// This is roughly an async generator (not supported in the browser yet),\n",
              "// where there are multiple asynchronous steps and the Python side is going\n",
              "// to poll for completion of each step.\n",
              "// This uses a Promise to block the python side on completion of each step,\n",
              "// then passes the result of the previous step as the input to the next step.\n",
              "function _uploadFilesContinue(outputId) {\n",
              "  const outputElement = document.getElementById(outputId);\n",
              "  const steps = outputElement.steps;\n",
              "\n",
              "  const next = steps.next(outputElement.lastPromiseValue);\n",
              "  return Promise.resolve(next.value.promise).then((value) => {\n",
              "    // Cache the last promise value to make it available to the next\n",
              "    // step of the generator.\n",
              "    outputElement.lastPromiseValue = value;\n",
              "    return next.value.response;\n",
              "  });\n",
              "}\n",
              "\n",
              "/**\n",
              " * Generator function which is called between each async step of the upload\n",
              " * process.\n",
              " * @param {string} inputId Element ID of the input file picker element.\n",
              " * @param {string} outputId Element ID of the output display.\n",
              " * @return {!Iterable<!Object>} Iterable of next steps.\n",
              " */\n",
              "function* uploadFilesStep(inputId, outputId) {\n",
              "  const inputElement = document.getElementById(inputId);\n",
              "  inputElement.disabled = false;\n",
              "\n",
              "  const outputElement = document.getElementById(outputId);\n",
              "  outputElement.innerHTML = '';\n",
              "\n",
              "  const pickedPromise = new Promise((resolve) => {\n",
              "    inputElement.addEventListener('change', (e) => {\n",
              "      resolve(e.target.files);\n",
              "    });\n",
              "  });\n",
              "\n",
              "  const cancel = document.createElement('button');\n",
              "  inputElement.parentElement.appendChild(cancel);\n",
              "  cancel.textContent = 'Cancel upload';\n",
              "  const cancelPromise = new Promise((resolve) => {\n",
              "    cancel.onclick = () => {\n",
              "      resolve(null);\n",
              "    };\n",
              "  });\n",
              "\n",
              "  // Wait for the user to pick the files.\n",
              "  const files = yield {\n",
              "    promise: Promise.race([pickedPromise, cancelPromise]),\n",
              "    response: {\n",
              "      action: 'starting',\n",
              "    }\n",
              "  };\n",
              "\n",
              "  cancel.remove();\n",
              "\n",
              "  // Disable the input element since further picks are not allowed.\n",
              "  inputElement.disabled = true;\n",
              "\n",
              "  if (!files) {\n",
              "    return {\n",
              "      response: {\n",
              "        action: 'complete',\n",
              "      }\n",
              "    };\n",
              "  }\n",
              "\n",
              "  for (const file of files) {\n",
              "    const li = document.createElement('li');\n",
              "    li.append(span(file.name, {fontWeight: 'bold'}));\n",
              "    li.append(span(\n",
              "        `(${file.type || 'n/a'}) - ${file.size} bytes, ` +\n",
              "        `last modified: ${\n",
              "            file.lastModifiedDate ? file.lastModifiedDate.toLocaleDateString() :\n",
              "                                    'n/a'} - `));\n",
              "    const percent = span('0% done');\n",
              "    li.appendChild(percent);\n",
              "\n",
              "    outputElement.appendChild(li);\n",
              "\n",
              "    const fileDataPromise = new Promise((resolve) => {\n",
              "      const reader = new FileReader();\n",
              "      reader.onload = (e) => {\n",
              "        resolve(e.target.result);\n",
              "      };\n",
              "      reader.readAsArrayBuffer(file);\n",
              "    });\n",
              "    // Wait for the data to be ready.\n",
              "    let fileData = yield {\n",
              "      promise: fileDataPromise,\n",
              "      response: {\n",
              "        action: 'continue',\n",
              "      }\n",
              "    };\n",
              "\n",
              "    // Use a chunked sending to avoid message size limits. See b/62115660.\n",
              "    let position = 0;\n",
              "    do {\n",
              "      const length = Math.min(fileData.byteLength - position, MAX_PAYLOAD_SIZE);\n",
              "      const chunk = new Uint8Array(fileData, position, length);\n",
              "      position += length;\n",
              "\n",
              "      const base64 = btoa(String.fromCharCode.apply(null, chunk));\n",
              "      yield {\n",
              "        response: {\n",
              "          action: 'append',\n",
              "          file: file.name,\n",
              "          data: base64,\n",
              "        },\n",
              "      };\n",
              "\n",
              "      let percentDone = fileData.byteLength === 0 ?\n",
              "          100 :\n",
              "          Math.round((position / fileData.byteLength) * 100);\n",
              "      percent.textContent = `${percentDone}% done`;\n",
              "\n",
              "    } while (position < fileData.byteLength);\n",
              "  }\n",
              "\n",
              "  // All done.\n",
              "  yield {\n",
              "    response: {\n",
              "      action: 'complete',\n",
              "    }\n",
              "  };\n",
              "}\n",
              "\n",
              "scope.google = scope.google || {};\n",
              "scope.google.colab = scope.google.colab || {};\n",
              "scope.google.colab._files = {\n",
              "  _uploadFiles,\n",
              "  _uploadFilesContinue,\n",
              "};\n",
              "})(self);\n",
              "</script> "
            ]
          },
          "metadata": {}
        },
        {
          "output_type": "stream",
          "name": "stdout",
          "text": [
            "Saving kaggle.json to kaggle (1).json\n"
          ]
        },
        {
          "output_type": "execute_result",
          "data": {
            "text/plain": [
              "{'kaggle (1).json': b'{\"username\":\"gumipark\",\"key\":\"e20ca4c5fc235648eb3fcfb227fdf7d0\"}'}"
            ]
          },
          "metadata": {},
          "execution_count": 3
        }
      ]
    },
    {
      "cell_type": "code",
      "source": [
        "# Kaggle API 설정\n",
        "!mkdir -p ~/.kaggle\n",
        "!cp kaggle.json ~/.kaggle/\n",
        "!chmod 600 ~/.kaggle/kaggle.json  # 보안 설정\n"
      ],
      "metadata": {
        "id": "ph-bOpokXn6f"
      },
      "execution_count": null,
      "outputs": []
    },
    {
      "cell_type": "code",
      "source": [
        "# Kaggle 데이터셋 다운로드\n",
        "!kaggle datasets download -d prashant111/glass-identification-dataset\n",
        "\n",
        "# 압축 해제\n",
        "!unzip glass-identification-dataset.zip\n"
      ],
      "metadata": {
        "colab": {
          "base_uri": "https://localhost:8080/"
        },
        "id": "bi3a4GGxX-d8",
        "outputId": "1d0f4f71-8684-4cb6-c700-7caa2d67433d"
      },
      "execution_count": null,
      "outputs": [
        {
          "output_type": "stream",
          "name": "stdout",
          "text": [
            "Dataset URL: https://www.kaggle.com/datasets/prashant111/glass-identification-dataset\n",
            "License(s): unknown\n",
            "Downloading glass-identification-dataset.zip to /content\n",
            "  0% 0.00/8.82k [00:00<?, ?B/s]\n",
            "100% 8.82k/8.82k [00:00<00:00, 18.6MB/s]\n",
            "Archive:  glass-identification-dataset.zip\n",
            "  inflating: datapackage.json        \n",
            "  inflating: glass_data.csv          \n"
          ]
        }
      ]
    },
    {
      "cell_type": "code",
      "source": [
        "import pandas as pd\n",
        "\n",
        "# 데이터 로드\n",
        "df = pd.read_csv('glass_data.csv')  # 파일 이름에 따라 변경 가능\n",
        "print(df.head())\n"
      ],
      "metadata": {
        "colab": {
          "base_uri": "https://localhost:8080/"
        },
        "id": "ecf08Ri5YBvb",
        "outputId": "484a4223-43ea-4e76-8d6b-a8d53a7ef540"
      },
      "execution_count": null,
      "outputs": [
        {
          "output_type": "stream",
          "name": "stdout",
          "text": [
            "   column_a  column_b  column_c  column_d  column_e  column_f  column_g  \\\n",
            "0         1   1.52101     13.64      4.49      1.10     71.78      0.06   \n",
            "1         2   1.51761     13.89      3.60      1.36     72.73      0.48   \n",
            "2         3   1.51618     13.53      3.55      1.54     72.99      0.39   \n",
            "3         4   1.51766     13.21      3.69      1.29     72.61      0.57   \n",
            "4         5   1.51742     13.27      3.62      1.24     73.08      0.55   \n",
            "\n",
            "   column_h  column_i  column_j  column_k  \n",
            "0      8.75       0.0       0.0         1  \n",
            "1      7.83       0.0       0.0         1  \n",
            "2      7.78       0.0       0.0         1  \n",
            "3      8.22       0.0       0.0         1  \n",
            "4      8.07       0.0       0.0         1  \n"
          ]
        }
      ]
    },
    {
      "cell_type": "code",
      "source": [
        "print(df.describe())\n",
        "print(df['Type'].value_counts())  # 클래스 분포 확인\n"
      ],
      "metadata": {
        "colab": {
          "base_uri": "https://localhost:8080/",
          "height": 928
        },
        "id": "TLToFQ_iYL2f",
        "outputId": "13f01f9f-f78e-4178-d49e-0c8950071dde"
      },
      "execution_count": null,
      "outputs": [
        {
          "output_type": "stream",
          "name": "stdout",
          "text": [
            "         column_a    column_b    column_c    column_d    column_e    column_f  \\\n",
            "count  214.000000  214.000000  214.000000  214.000000  214.000000  214.000000   \n",
            "mean   107.500000    1.518365   13.407850    2.684533    1.444907   72.650935   \n",
            "std     61.920648    0.003037    0.816604    1.442408    0.499270    0.774546   \n",
            "min      1.000000    1.511150   10.730000    0.000000    0.290000   69.810000   \n",
            "25%     54.250000    1.516522   12.907500    2.115000    1.190000   72.280000   \n",
            "50%    107.500000    1.517680   13.300000    3.480000    1.360000   72.790000   \n",
            "75%    160.750000    1.519157   13.825000    3.600000    1.630000   73.087500   \n",
            "max    214.000000    1.533930   17.380000    4.490000    3.500000   75.410000   \n",
            "\n",
            "         column_g    column_h    column_i    column_j    column_k  \n",
            "count  214.000000  214.000000  214.000000  214.000000  214.000000  \n",
            "mean     0.497056    8.956963    0.175047    0.057009    2.780374  \n",
            "std      0.652192    1.423153    0.497219    0.097439    2.103739  \n",
            "min      0.000000    5.430000    0.000000    0.000000    1.000000  \n",
            "25%      0.122500    8.240000    0.000000    0.000000    1.000000  \n",
            "50%      0.555000    8.600000    0.000000    0.000000    2.000000  \n",
            "75%      0.610000    9.172500    0.000000    0.100000    3.000000  \n",
            "max      6.210000   16.190000    3.150000    0.510000    7.000000  \n"
          ]
        },
        {
          "output_type": "error",
          "ename": "KeyError",
          "evalue": "'Type'",
          "traceback": [
            "\u001b[0;31m---------------------------------------------------------------------------\u001b[0m",
            "\u001b[0;31mKeyError\u001b[0m                                  Traceback (most recent call last)",
            "\u001b[0;32m/usr/local/lib/python3.10/dist-packages/pandas/core/indexes/base.py\u001b[0m in \u001b[0;36mget_loc\u001b[0;34m(self, key)\u001b[0m\n\u001b[1;32m   3804\u001b[0m         \u001b[0;32mtry\u001b[0m\u001b[0;34m:\u001b[0m\u001b[0;34m\u001b[0m\u001b[0;34m\u001b[0m\u001b[0m\n\u001b[0;32m-> 3805\u001b[0;31m             \u001b[0;32mreturn\u001b[0m \u001b[0mself\u001b[0m\u001b[0;34m.\u001b[0m\u001b[0m_engine\u001b[0m\u001b[0;34m.\u001b[0m\u001b[0mget_loc\u001b[0m\u001b[0;34m(\u001b[0m\u001b[0mcasted_key\u001b[0m\u001b[0;34m)\u001b[0m\u001b[0;34m\u001b[0m\u001b[0;34m\u001b[0m\u001b[0m\n\u001b[0m\u001b[1;32m   3806\u001b[0m         \u001b[0;32mexcept\u001b[0m \u001b[0mKeyError\u001b[0m \u001b[0;32mas\u001b[0m \u001b[0merr\u001b[0m\u001b[0;34m:\u001b[0m\u001b[0;34m\u001b[0m\u001b[0;34m\u001b[0m\u001b[0m\n",
            "\u001b[0;32mindex.pyx\u001b[0m in \u001b[0;36mpandas._libs.index.IndexEngine.get_loc\u001b[0;34m()\u001b[0m\n",
            "\u001b[0;32mindex.pyx\u001b[0m in \u001b[0;36mpandas._libs.index.IndexEngine.get_loc\u001b[0;34m()\u001b[0m\n",
            "\u001b[0;32mpandas/_libs/hashtable_class_helper.pxi\u001b[0m in \u001b[0;36mpandas._libs.hashtable.PyObjectHashTable.get_item\u001b[0;34m()\u001b[0m\n",
            "\u001b[0;32mpandas/_libs/hashtable_class_helper.pxi\u001b[0m in \u001b[0;36mpandas._libs.hashtable.PyObjectHashTable.get_item\u001b[0;34m()\u001b[0m\n",
            "\u001b[0;31mKeyError\u001b[0m: 'Type'",
            "\nThe above exception was the direct cause of the following exception:\n",
            "\u001b[0;31mKeyError\u001b[0m                                  Traceback (most recent call last)",
            "\u001b[0;32m<ipython-input-7-5242a33a2afd>\u001b[0m in \u001b[0;36m<cell line: 2>\u001b[0;34m()\u001b[0m\n\u001b[1;32m      1\u001b[0m \u001b[0mprint\u001b[0m\u001b[0;34m(\u001b[0m\u001b[0mdf\u001b[0m\u001b[0;34m.\u001b[0m\u001b[0mdescribe\u001b[0m\u001b[0;34m(\u001b[0m\u001b[0;34m)\u001b[0m\u001b[0;34m)\u001b[0m\u001b[0;34m\u001b[0m\u001b[0;34m\u001b[0m\u001b[0m\n\u001b[0;32m----> 2\u001b[0;31m \u001b[0mprint\u001b[0m\u001b[0;34m(\u001b[0m\u001b[0mdf\u001b[0m\u001b[0;34m[\u001b[0m\u001b[0;34m'Type'\u001b[0m\u001b[0;34m]\u001b[0m\u001b[0;34m.\u001b[0m\u001b[0mvalue_counts\u001b[0m\u001b[0;34m(\u001b[0m\u001b[0;34m)\u001b[0m\u001b[0;34m)\u001b[0m  \u001b[0;31m# 클래스 분포 확인\u001b[0m\u001b[0;34m\u001b[0m\u001b[0;34m\u001b[0m\u001b[0m\n\u001b[0m",
            "\u001b[0;32m/usr/local/lib/python3.10/dist-packages/pandas/core/frame.py\u001b[0m in \u001b[0;36m__getitem__\u001b[0;34m(self, key)\u001b[0m\n\u001b[1;32m   4100\u001b[0m             \u001b[0;32mif\u001b[0m \u001b[0mself\u001b[0m\u001b[0;34m.\u001b[0m\u001b[0mcolumns\u001b[0m\u001b[0;34m.\u001b[0m\u001b[0mnlevels\u001b[0m \u001b[0;34m>\u001b[0m \u001b[0;36m1\u001b[0m\u001b[0;34m:\u001b[0m\u001b[0;34m\u001b[0m\u001b[0;34m\u001b[0m\u001b[0m\n\u001b[1;32m   4101\u001b[0m                 \u001b[0;32mreturn\u001b[0m \u001b[0mself\u001b[0m\u001b[0;34m.\u001b[0m\u001b[0m_getitem_multilevel\u001b[0m\u001b[0;34m(\u001b[0m\u001b[0mkey\u001b[0m\u001b[0;34m)\u001b[0m\u001b[0;34m\u001b[0m\u001b[0;34m\u001b[0m\u001b[0m\n\u001b[0;32m-> 4102\u001b[0;31m             \u001b[0mindexer\u001b[0m \u001b[0;34m=\u001b[0m \u001b[0mself\u001b[0m\u001b[0;34m.\u001b[0m\u001b[0mcolumns\u001b[0m\u001b[0;34m.\u001b[0m\u001b[0mget_loc\u001b[0m\u001b[0;34m(\u001b[0m\u001b[0mkey\u001b[0m\u001b[0;34m)\u001b[0m\u001b[0;34m\u001b[0m\u001b[0;34m\u001b[0m\u001b[0m\n\u001b[0m\u001b[1;32m   4103\u001b[0m             \u001b[0;32mif\u001b[0m \u001b[0mis_integer\u001b[0m\u001b[0;34m(\u001b[0m\u001b[0mindexer\u001b[0m\u001b[0;34m)\u001b[0m\u001b[0;34m:\u001b[0m\u001b[0;34m\u001b[0m\u001b[0;34m\u001b[0m\u001b[0m\n\u001b[1;32m   4104\u001b[0m                 \u001b[0mindexer\u001b[0m \u001b[0;34m=\u001b[0m \u001b[0;34m[\u001b[0m\u001b[0mindexer\u001b[0m\u001b[0;34m]\u001b[0m\u001b[0;34m\u001b[0m\u001b[0;34m\u001b[0m\u001b[0m\n",
            "\u001b[0;32m/usr/local/lib/python3.10/dist-packages/pandas/core/indexes/base.py\u001b[0m in \u001b[0;36mget_loc\u001b[0;34m(self, key)\u001b[0m\n\u001b[1;32m   3810\u001b[0m             ):\n\u001b[1;32m   3811\u001b[0m                 \u001b[0;32mraise\u001b[0m \u001b[0mInvalidIndexError\u001b[0m\u001b[0;34m(\u001b[0m\u001b[0mkey\u001b[0m\u001b[0;34m)\u001b[0m\u001b[0;34m\u001b[0m\u001b[0;34m\u001b[0m\u001b[0m\n\u001b[0;32m-> 3812\u001b[0;31m             \u001b[0;32mraise\u001b[0m \u001b[0mKeyError\u001b[0m\u001b[0;34m(\u001b[0m\u001b[0mkey\u001b[0m\u001b[0;34m)\u001b[0m \u001b[0;32mfrom\u001b[0m \u001b[0merr\u001b[0m\u001b[0;34m\u001b[0m\u001b[0;34m\u001b[0m\u001b[0m\n\u001b[0m\u001b[1;32m   3813\u001b[0m         \u001b[0;32mexcept\u001b[0m \u001b[0mTypeError\u001b[0m\u001b[0;34m:\u001b[0m\u001b[0;34m\u001b[0m\u001b[0;34m\u001b[0m\u001b[0m\n\u001b[1;32m   3814\u001b[0m             \u001b[0;31m# If we have a listlike key, _check_indexing_error will raise\u001b[0m\u001b[0;34m\u001b[0m\u001b[0;34m\u001b[0m\u001b[0m\n",
            "\u001b[0;31mKeyError\u001b[0m: 'Type'"
          ]
        }
      ]
    },
    {
      "source": [
        "import pandas as pd\n",
        "\n",
        "# 데이터 로드\n",
        "df = pd.read_csv('glass_data.csv')  # 파일 이름에 따라 변경 가능\n",
        "print(df.head())\n",
        "\n",
        "# Check for column names and their types\n",
        "print(df.columns) # Print the columns of the DataFrame\n",
        "\n",
        "# If the 'Type' column is present with a different name or casing:\n",
        "# Replace 'ActualColumnName' with the actual name of the column\n",
        "# For example if the actual column name is 'type', change the code to:\n",
        "# print(df['type'].value_counts())\n",
        "\n",
        "# If the 'Type' column is not present, you need to check the CSV file\n",
        "# and ensure that it has a column with information about glass type."
      ],
      "cell_type": "code",
      "metadata": {
        "colab": {
          "base_uri": "https://localhost:8080/"
        },
        "id": "qLKyEHpeYVFi",
        "outputId": "9b083d9e-d031-4584-b303-d2b038099c51"
      },
      "execution_count": null,
      "outputs": [
        {
          "output_type": "stream",
          "name": "stdout",
          "text": [
            "   column_a  column_b  column_c  column_d  column_e  column_f  column_g  \\\n",
            "0         1   1.52101     13.64      4.49      1.10     71.78      0.06   \n",
            "1         2   1.51761     13.89      3.60      1.36     72.73      0.48   \n",
            "2         3   1.51618     13.53      3.55      1.54     72.99      0.39   \n",
            "3         4   1.51766     13.21      3.69      1.29     72.61      0.57   \n",
            "4         5   1.51742     13.27      3.62      1.24     73.08      0.55   \n",
            "\n",
            "   column_h  column_i  column_j  column_k  \n",
            "0      8.75       0.0       0.0         1  \n",
            "1      7.83       0.0       0.0         1  \n",
            "2      7.78       0.0       0.0         1  \n",
            "3      8.22       0.0       0.0         1  \n",
            "4      8.07       0.0       0.0         1  \n",
            "Index(['column_a', 'column_b', 'column_c', 'column_d', 'column_e', 'column_f',\n",
            "       'column_g', 'column_h', 'column_i', 'column_j', 'column_k'],\n",
            "      dtype='object')\n"
          ]
        }
      ]
    },
    {
      "cell_type": "code",
      "source": [
        "import pandas as pd\n",
        "\n",
        "# 파일 경로 확인 (파일 이름 정확히 입력)\n",
        "file_path = 'glass_data.csv'\n",
        "\n",
        "# 데이터 로드\n",
        "df = pd.read_csv(file_path)\n",
        "\n",
        "# 데이터 확인\n",
        "print(df.head())\n",
        "print(df.info())\n"
      ],
      "metadata": {
        "colab": {
          "base_uri": "https://localhost:8080/"
        },
        "id": "iIviWg0VYl0r",
        "outputId": "ab29fdb1-e550-45b2-ccc1-6cef345f58a1"
      },
      "execution_count": null,
      "outputs": [
        {
          "output_type": "stream",
          "name": "stdout",
          "text": [
            "   column_a  column_b  column_c  column_d  column_e  column_f  column_g  \\\n",
            "0         1   1.52101     13.64      4.49      1.10     71.78      0.06   \n",
            "1         2   1.51761     13.89      3.60      1.36     72.73      0.48   \n",
            "2         3   1.51618     13.53      3.55      1.54     72.99      0.39   \n",
            "3         4   1.51766     13.21      3.69      1.29     72.61      0.57   \n",
            "4         5   1.51742     13.27      3.62      1.24     73.08      0.55   \n",
            "\n",
            "   column_h  column_i  column_j  column_k  \n",
            "0      8.75       0.0       0.0         1  \n",
            "1      7.83       0.0       0.0         1  \n",
            "2      7.78       0.0       0.0         1  \n",
            "3      8.22       0.0       0.0         1  \n",
            "4      8.07       0.0       0.0         1  \n",
            "<class 'pandas.core.frame.DataFrame'>\n",
            "RangeIndex: 214 entries, 0 to 213\n",
            "Data columns (total 11 columns):\n",
            " #   Column    Non-Null Count  Dtype  \n",
            "---  ------    --------------  -----  \n",
            " 0   column_a  214 non-null    int64  \n",
            " 1   column_b  214 non-null    float64\n",
            " 2   column_c  214 non-null    float64\n",
            " 3   column_d  214 non-null    float64\n",
            " 4   column_e  214 non-null    float64\n",
            " 5   column_f  214 non-null    float64\n",
            " 6   column_g  214 non-null    float64\n",
            " 7   column_h  214 non-null    float64\n",
            " 8   column_i  214 non-null    float64\n",
            " 9   column_j  214 non-null    float64\n",
            " 10  column_k  214 non-null    int64  \n",
            "dtypes: float64(9), int64(2)\n",
            "memory usage: 18.5 KB\n",
            "None\n"
          ]
        }
      ]
    },
    {
      "cell_type": "code",
      "source": [
        "# 파일 내용을 직접 출력\n",
        "with open(file_path, 'r') as file:\n",
        "    print(file.read())\n"
      ],
      "metadata": {
        "colab": {
          "base_uri": "https://localhost:8080/"
        },
        "id": "1vaPhvF0Yn2a",
        "outputId": "14fa460a-6271-4d9a-8b1d-d03952cda767"
      },
      "execution_count": null,
      "outputs": [
        {
          "output_type": "stream",
          "name": "stdout",
          "text": [
            "column_a,column_b,column_c,column_d,column_e,column_f,column_g,column_h,column_i,column_j,column_k\n",
            "1,1.52101,13.64,4.49,1.10,71.78,0.06,8.75,0.00,0.00,1\n",
            "2,1.51761,13.89,3.60,1.36,72.73,0.48,7.83,0.00,0.00,1\n",
            "3,1.51618,13.53,3.55,1.54,72.99,0.39,7.78,0.00,0.00,1\n",
            "4,1.51766,13.21,3.69,1.29,72.61,0.57,8.22,0.00,0.00,1\n",
            "5,1.51742,13.27,3.62,1.24,73.08,0.55,8.07,0.00,0.00,1\n",
            "6,1.51596,12.79,3.61,1.62,72.97,0.64,8.07,0.00,0.26,1\n",
            "7,1.51743,13.30,3.60,1.14,73.09,0.58,8.17,0.00,0.00,1\n",
            "8,1.51756,13.15,3.61,1.05,73.24,0.57,8.24,0.00,0.00,1\n",
            "9,1.51918,14.04,3.58,1.37,72.08,0.56,8.30,0.00,0.00,1\n",
            "10,1.51755,13.00,3.60,1.36,72.99,0.57,8.40,0.00,0.11,1\n",
            "11,1.51571,12.72,3.46,1.56,73.20,0.67,8.09,0.00,0.24,1\n",
            "12,1.51763,12.80,3.66,1.27,73.01,0.60,8.56,0.00,0.00,1\n",
            "13,1.51589,12.88,3.43,1.40,73.28,0.69,8.05,0.00,0.24,1\n",
            "14,1.51748,12.86,3.56,1.27,73.21,0.54,8.38,0.00,0.17,1\n",
            "15,1.51763,12.61,3.59,1.31,73.29,0.58,8.50,0.00,0.00,1\n",
            "16,1.51761,12.81,3.54,1.23,73.24,0.58,8.39,0.00,0.00,1\n",
            "17,1.51784,12.68,3.67,1.16,73.11,0.61,8.70,0.00,0.00,1\n",
            "18,1.52196,14.36,3.85,0.89,71.36,0.15,9.15,0.00,0.00,1\n",
            "19,1.51911,13.90,3.73,1.18,72.12,0.06,8.89,0.00,0.00,1\n",
            "20,1.51735,13.02,3.54,1.69,72.73,0.54,8.44,0.00,0.07,1\n",
            "21,1.51750,12.82,3.55,1.49,72.75,0.54,8.52,0.00,0.19,1\n",
            "22,1.51966,14.77,3.75,0.29,72.02,0.03,9.00,0.00,0.00,1\n",
            "23,1.51736,12.78,3.62,1.29,72.79,0.59,8.70,0.00,0.00,1\n",
            "24,1.51751,12.81,3.57,1.35,73.02,0.62,8.59,0.00,0.00,1\n",
            "25,1.51720,13.38,3.50,1.15,72.85,0.50,8.43,0.00,0.00,1\n",
            "26,1.51764,12.98,3.54,1.21,73.00,0.65,8.53,0.00,0.00,1\n",
            "27,1.51793,13.21,3.48,1.41,72.64,0.59,8.43,0.00,0.00,1\n",
            "28,1.51721,12.87,3.48,1.33,73.04,0.56,8.43,0.00,0.00,1\n",
            "29,1.51768,12.56,3.52,1.43,73.15,0.57,8.54,0.00,0.00,1\n",
            "30,1.51784,13.08,3.49,1.28,72.86,0.60,8.49,0.00,0.00,1\n",
            "31,1.51768,12.65,3.56,1.30,73.08,0.61,8.69,0.00,0.14,1\n",
            "32,1.51747,12.84,3.50,1.14,73.27,0.56,8.55,0.00,0.00,1\n",
            "33,1.51775,12.85,3.48,1.23,72.97,0.61,8.56,0.09,0.22,1\n",
            "34,1.51753,12.57,3.47,1.38,73.39,0.60,8.55,0.00,0.06,1\n",
            "35,1.51783,12.69,3.54,1.34,72.95,0.57,8.75,0.00,0.00,1\n",
            "36,1.51567,13.29,3.45,1.21,72.74,0.56,8.57,0.00,0.00,1\n",
            "37,1.51909,13.89,3.53,1.32,71.81,0.51,8.78,0.11,0.00,1\n",
            "38,1.51797,12.74,3.48,1.35,72.96,0.64,8.68,0.00,0.00,1\n",
            "39,1.52213,14.21,3.82,0.47,71.77,0.11,9.57,0.00,0.00,1\n",
            "40,1.52213,14.21,3.82,0.47,71.77,0.11,9.57,0.00,0.00,1\n",
            "41,1.51793,12.79,3.50,1.12,73.03,0.64,8.77,0.00,0.00,1\n",
            "42,1.51755,12.71,3.42,1.20,73.20,0.59,8.64,0.00,0.00,1\n",
            "43,1.51779,13.21,3.39,1.33,72.76,0.59,8.59,0.00,0.00,1\n",
            "44,1.52210,13.73,3.84,0.72,71.76,0.17,9.74,0.00,0.00,1\n",
            "45,1.51786,12.73,3.43,1.19,72.95,0.62,8.76,0.00,0.30,1\n",
            "46,1.51900,13.49,3.48,1.35,71.95,0.55,9.00,0.00,0.00,1\n",
            "47,1.51869,13.19,3.37,1.18,72.72,0.57,8.83,0.00,0.16,1\n",
            "48,1.52667,13.99,3.70,0.71,71.57,0.02,9.82,0.00,0.10,1\n",
            "49,1.52223,13.21,3.77,0.79,71.99,0.13,10.02,0.00,0.00,1\n",
            "50,1.51898,13.58,3.35,1.23,72.08,0.59,8.91,0.00,0.00,1\n",
            "51,1.52320,13.72,3.72,0.51,71.75,0.09,10.06,0.00,0.16,1\n",
            "52,1.51926,13.20,3.33,1.28,72.36,0.60,9.14,0.00,0.11,1\n",
            "53,1.51808,13.43,2.87,1.19,72.84,0.55,9.03,0.00,0.00,1\n",
            "54,1.51837,13.14,2.84,1.28,72.85,0.55,9.07,0.00,0.00,1\n",
            "55,1.51778,13.21,2.81,1.29,72.98,0.51,9.02,0.00,0.09,1\n",
            "56,1.51769,12.45,2.71,1.29,73.70,0.56,9.06,0.00,0.24,1\n",
            "57,1.51215,12.99,3.47,1.12,72.98,0.62,8.35,0.00,0.31,1\n",
            "58,1.51824,12.87,3.48,1.29,72.95,0.60,8.43,0.00,0.00,1\n",
            "59,1.51754,13.48,3.74,1.17,72.99,0.59,8.03,0.00,0.00,1\n",
            "60,1.51754,13.39,3.66,1.19,72.79,0.57,8.27,0.00,0.11,1\n",
            "61,1.51905,13.60,3.62,1.11,72.64,0.14,8.76,0.00,0.00,1\n",
            "62,1.51977,13.81,3.58,1.32,71.72,0.12,8.67,0.69,0.00,1\n",
            "63,1.52172,13.51,3.86,0.88,71.79,0.23,9.54,0.00,0.11,1\n",
            "64,1.52227,14.17,3.81,0.78,71.35,0.00,9.69,0.00,0.00,1\n",
            "65,1.52172,13.48,3.74,0.90,72.01,0.18,9.61,0.00,0.07,1\n",
            "66,1.52099,13.69,3.59,1.12,71.96,0.09,9.40,0.00,0.00,1\n",
            "67,1.52152,13.05,3.65,0.87,72.22,0.19,9.85,0.00,0.17,1\n",
            "68,1.52152,13.05,3.65,0.87,72.32,0.19,9.85,0.00,0.17,1\n",
            "69,1.52152,13.12,3.58,0.90,72.20,0.23,9.82,0.00,0.16,1\n",
            "70,1.52300,13.31,3.58,0.82,71.99,0.12,10.17,0.00,0.03,1\n",
            "71,1.51574,14.86,3.67,1.74,71.87,0.16,7.36,0.00,0.12,2\n",
            "72,1.51848,13.64,3.87,1.27,71.96,0.54,8.32,0.00,0.32,2\n",
            "73,1.51593,13.09,3.59,1.52,73.10,0.67,7.83,0.00,0.00,2\n",
            "74,1.51631,13.34,3.57,1.57,72.87,0.61,7.89,0.00,0.00,2\n",
            "75,1.51596,13.02,3.56,1.54,73.11,0.72,7.90,0.00,0.00,2\n",
            "76,1.51590,13.02,3.58,1.51,73.12,0.69,7.96,0.00,0.00,2\n",
            "77,1.51645,13.44,3.61,1.54,72.39,0.66,8.03,0.00,0.00,2\n",
            "78,1.51627,13.00,3.58,1.54,72.83,0.61,8.04,0.00,0.00,2\n",
            "79,1.51613,13.92,3.52,1.25,72.88,0.37,7.94,0.00,0.14,2\n",
            "80,1.51590,12.82,3.52,1.90,72.86,0.69,7.97,0.00,0.00,2\n",
            "81,1.51592,12.86,3.52,2.12,72.66,0.69,7.97,0.00,0.00,2\n",
            "82,1.51593,13.25,3.45,1.43,73.17,0.61,7.86,0.00,0.00,2\n",
            "83,1.51646,13.41,3.55,1.25,72.81,0.68,8.10,0.00,0.00,2\n",
            "84,1.51594,13.09,3.52,1.55,72.87,0.68,8.05,0.00,0.09,2\n",
            "85,1.51409,14.25,3.09,2.08,72.28,1.10,7.08,0.00,0.00,2\n",
            "86,1.51625,13.36,3.58,1.49,72.72,0.45,8.21,0.00,0.00,2\n",
            "87,1.51569,13.24,3.49,1.47,73.25,0.38,8.03,0.00,0.00,2\n",
            "88,1.51645,13.40,3.49,1.52,72.65,0.67,8.08,0.00,0.10,2\n",
            "89,1.51618,13.01,3.50,1.48,72.89,0.60,8.12,0.00,0.00,2\n",
            "90,1.51640,12.55,3.48,1.87,73.23,0.63,8.08,0.00,0.09,2\n",
            "91,1.51841,12.93,3.74,1.11,72.28,0.64,8.96,0.00,0.22,2\n",
            "92,1.51605,12.90,3.44,1.45,73.06,0.44,8.27,0.00,0.00,2\n",
            "93,1.51588,13.12,3.41,1.58,73.26,0.07,8.39,0.00,0.19,2\n",
            "94,1.51590,13.24,3.34,1.47,73.10,0.39,8.22,0.00,0.00,2\n",
            "95,1.51629,12.71,3.33,1.49,73.28,0.67,8.24,0.00,0.00,2\n",
            "96,1.51860,13.36,3.43,1.43,72.26,0.51,8.60,0.00,0.00,2\n",
            "97,1.51841,13.02,3.62,1.06,72.34,0.64,9.13,0.00,0.15,2\n",
            "98,1.51743,12.20,3.25,1.16,73.55,0.62,8.90,0.00,0.24,2\n",
            "99,1.51689,12.67,2.88,1.71,73.21,0.73,8.54,0.00,0.00,2\n",
            "100,1.51811,12.96,2.96,1.43,72.92,0.60,8.79,0.14,0.00,2\n",
            "101,1.51655,12.75,2.85,1.44,73.27,0.57,8.79,0.11,0.22,2\n",
            "102,1.51730,12.35,2.72,1.63,72.87,0.70,9.23,0.00,0.00,2\n",
            "103,1.51820,12.62,2.76,0.83,73.81,0.35,9.42,0.00,0.20,2\n",
            "104,1.52725,13.80,3.15,0.66,70.57,0.08,11.64,0.00,0.00,2\n",
            "105,1.52410,13.83,2.90,1.17,71.15,0.08,10.79,0.00,0.00,2\n",
            "106,1.52475,11.45,0.00,1.88,72.19,0.81,13.24,0.00,0.34,2\n",
            "107,1.53125,10.73,0.00,2.10,69.81,0.58,13.30,3.15,0.28,2\n",
            "108,1.53393,12.30,0.00,1.00,70.16,0.12,16.19,0.00,0.24,2\n",
            "109,1.52222,14.43,0.00,1.00,72.67,0.10,11.52,0.00,0.08,2\n",
            "110,1.51818,13.72,0.00,0.56,74.45,0.00,10.99,0.00,0.00,2\n",
            "111,1.52664,11.23,0.00,0.77,73.21,0.00,14.68,0.00,0.00,2\n",
            "112,1.52739,11.02,0.00,0.75,73.08,0.00,14.96,0.00,0.00,2\n",
            "113,1.52777,12.64,0.00,0.67,72.02,0.06,14.40,0.00,0.00,2\n",
            "114,1.51892,13.46,3.83,1.26,72.55,0.57,8.21,0.00,0.14,2\n",
            "115,1.51847,13.10,3.97,1.19,72.44,0.60,8.43,0.00,0.00,2\n",
            "116,1.51846,13.41,3.89,1.33,72.38,0.51,8.28,0.00,0.00,2\n",
            "117,1.51829,13.24,3.90,1.41,72.33,0.55,8.31,0.00,0.10,2\n",
            "118,1.51708,13.72,3.68,1.81,72.06,0.64,7.88,0.00,0.00,2\n",
            "119,1.51673,13.30,3.64,1.53,72.53,0.65,8.03,0.00,0.29,2\n",
            "120,1.51652,13.56,3.57,1.47,72.45,0.64,7.96,0.00,0.00,2\n",
            "121,1.51844,13.25,3.76,1.32,72.40,0.58,8.42,0.00,0.00,2\n",
            "122,1.51663,12.93,3.54,1.62,72.96,0.64,8.03,0.00,0.21,2\n",
            "123,1.51687,13.23,3.54,1.48,72.84,0.56,8.10,0.00,0.00,2\n",
            "124,1.51707,13.48,3.48,1.71,72.52,0.62,7.99,0.00,0.00,2\n",
            "125,1.52177,13.20,3.68,1.15,72.75,0.54,8.52,0.00,0.00,2\n",
            "126,1.51872,12.93,3.66,1.56,72.51,0.58,8.55,0.00,0.12,2\n",
            "127,1.51667,12.94,3.61,1.26,72.75,0.56,8.60,0.00,0.00,2\n",
            "128,1.52081,13.78,2.28,1.43,71.99,0.49,9.85,0.00,0.17,2\n",
            "129,1.52068,13.55,2.09,1.67,72.18,0.53,9.57,0.27,0.17,2\n",
            "130,1.52020,13.98,1.35,1.63,71.76,0.39,10.56,0.00,0.18,2\n",
            "131,1.52177,13.75,1.01,1.36,72.19,0.33,11.14,0.00,0.00,2\n",
            "132,1.52614,13.70,0.00,1.36,71.24,0.19,13.44,0.00,0.10,2\n",
            "133,1.51813,13.43,3.98,1.18,72.49,0.58,8.15,0.00,0.00,2\n",
            "134,1.51800,13.71,3.93,1.54,71.81,0.54,8.21,0.00,0.15,2\n",
            "135,1.51811,13.33,3.85,1.25,72.78,0.52,8.12,0.00,0.00,2\n",
            "136,1.51789,13.19,3.90,1.30,72.33,0.55,8.44,0.00,0.28,2\n",
            "137,1.51806,13.00,3.80,1.08,73.07,0.56,8.38,0.00,0.12,2\n",
            "138,1.51711,12.89,3.62,1.57,72.96,0.61,8.11,0.00,0.00,2\n",
            "139,1.51674,12.79,3.52,1.54,73.36,0.66,7.90,0.00,0.00,2\n",
            "140,1.51674,12.87,3.56,1.64,73.14,0.65,7.99,0.00,0.00,2\n",
            "141,1.51690,13.33,3.54,1.61,72.54,0.68,8.11,0.00,0.00,2\n",
            "142,1.51851,13.20,3.63,1.07,72.83,0.57,8.41,0.09,0.17,2\n",
            "143,1.51662,12.85,3.51,1.44,73.01,0.68,8.23,0.06,0.25,2\n",
            "144,1.51709,13.00,3.47,1.79,72.72,0.66,8.18,0.00,0.00,2\n",
            "145,1.51660,12.99,3.18,1.23,72.97,0.58,8.81,0.00,0.24,2\n",
            "146,1.51839,12.85,3.67,1.24,72.57,0.62,8.68,0.00,0.35,2\n",
            "147,1.51769,13.65,3.66,1.11,72.77,0.11,8.60,0.00,0.00,3\n",
            "148,1.51610,13.33,3.53,1.34,72.67,0.56,8.33,0.00,0.00,3\n",
            "149,1.51670,13.24,3.57,1.38,72.70,0.56,8.44,0.00,0.10,3\n",
            "150,1.51643,12.16,3.52,1.35,72.89,0.57,8.53,0.00,0.00,3\n",
            "151,1.51665,13.14,3.45,1.76,72.48,0.60,8.38,0.00,0.17,3\n",
            "152,1.52127,14.32,3.90,0.83,71.50,0.00,9.49,0.00,0.00,3\n",
            "153,1.51779,13.64,3.65,0.65,73.00,0.06,8.93,0.00,0.00,3\n",
            "154,1.51610,13.42,3.40,1.22,72.69,0.59,8.32,0.00,0.00,3\n",
            "155,1.51694,12.86,3.58,1.31,72.61,0.61,8.79,0.00,0.00,3\n",
            "156,1.51646,13.04,3.40,1.26,73.01,0.52,8.58,0.00,0.00,3\n",
            "157,1.51655,13.41,3.39,1.28,72.64,0.52,8.65,0.00,0.00,3\n",
            "158,1.52121,14.03,3.76,0.58,71.79,0.11,9.65,0.00,0.00,3\n",
            "159,1.51776,13.53,3.41,1.52,72.04,0.58,8.79,0.00,0.00,3\n",
            "160,1.51796,13.50,3.36,1.63,71.94,0.57,8.81,0.00,0.09,3\n",
            "161,1.51832,13.33,3.34,1.54,72.14,0.56,8.99,0.00,0.00,3\n",
            "162,1.51934,13.64,3.54,0.75,72.65,0.16,8.89,0.15,0.24,3\n",
            "163,1.52211,14.19,3.78,0.91,71.36,0.23,9.14,0.00,0.37,3\n",
            "164,1.51514,14.01,2.68,3.50,69.89,1.68,5.87,2.20,0.00,5\n",
            "165,1.51915,12.73,1.85,1.86,72.69,0.60,10.09,0.00,0.00,5\n",
            "166,1.52171,11.56,1.88,1.56,72.86,0.47,11.41,0.00,0.00,5\n",
            "167,1.52151,11.03,1.71,1.56,73.44,0.58,11.62,0.00,0.00,5\n",
            "168,1.51969,12.64,0.00,1.65,73.75,0.38,11.53,0.00,0.00,5\n",
            "169,1.51666,12.86,0.00,1.83,73.88,0.97,10.17,0.00,0.00,5\n",
            "170,1.51994,13.27,0.00,1.76,73.03,0.47,11.32,0.00,0.00,5\n",
            "171,1.52369,13.44,0.00,1.58,72.22,0.32,12.24,0.00,0.00,5\n",
            "172,1.51316,13.02,0.00,3.04,70.48,6.21,6.96,0.00,0.00,5\n",
            "173,1.51321,13.00,0.00,3.02,70.70,6.21,6.93,0.00,0.00,5\n",
            "174,1.52043,13.38,0.00,1.40,72.25,0.33,12.50,0.00,0.00,5\n",
            "175,1.52058,12.85,1.61,2.17,72.18,0.76,9.70,0.24,0.51,5\n",
            "176,1.52119,12.97,0.33,1.51,73.39,0.13,11.27,0.00,0.28,5\n",
            "177,1.51905,14.00,2.39,1.56,72.37,0.00,9.57,0.00,0.00,6\n",
            "178,1.51937,13.79,2.41,1.19,72.76,0.00,9.77,0.00,0.00,6\n",
            "179,1.51829,14.46,2.24,1.62,72.38,0.00,9.26,0.00,0.00,6\n",
            "180,1.51852,14.09,2.19,1.66,72.67,0.00,9.32,0.00,0.00,6\n",
            "181,1.51299,14.40,1.74,1.54,74.55,0.00,7.59,0.00,0.00,6\n",
            "182,1.51888,14.99,0.78,1.74,72.50,0.00,9.95,0.00,0.00,6\n",
            "183,1.51916,14.15,0.00,2.09,72.74,0.00,10.88,0.00,0.00,6\n",
            "184,1.51969,14.56,0.00,0.56,73.48,0.00,11.22,0.00,0.00,6\n",
            "185,1.51115,17.38,0.00,0.34,75.41,0.00,6.65,0.00,0.00,6\n",
            "186,1.51131,13.69,3.20,1.81,72.81,1.76,5.43,1.19,0.00,7\n",
            "187,1.51838,14.32,3.26,2.22,71.25,1.46,5.79,1.63,0.00,7\n",
            "188,1.52315,13.44,3.34,1.23,72.38,0.60,8.83,0.00,0.00,7\n",
            "189,1.52247,14.86,2.20,2.06,70.26,0.76,9.76,0.00,0.00,7\n",
            "190,1.52365,15.79,1.83,1.31,70.43,0.31,8.61,1.68,0.00,7\n",
            "191,1.51613,13.88,1.78,1.79,73.10,0.00,8.67,0.76,0.00,7\n",
            "192,1.51602,14.85,0.00,2.38,73.28,0.00,8.76,0.64,0.09,7\n",
            "193,1.51623,14.20,0.00,2.79,73.46,0.04,9.04,0.40,0.09,7\n",
            "194,1.51719,14.75,0.00,2.00,73.02,0.00,8.53,1.59,0.08,7\n",
            "195,1.51683,14.56,0.00,1.98,73.29,0.00,8.52,1.57,0.07,7\n",
            "196,1.51545,14.14,0.00,2.68,73.39,0.08,9.07,0.61,0.05,7\n",
            "197,1.51556,13.87,0.00,2.54,73.23,0.14,9.41,0.81,0.01,7\n",
            "198,1.51727,14.70,0.00,2.34,73.28,0.00,8.95,0.66,0.00,7\n",
            "199,1.51531,14.38,0.00,2.66,73.10,0.04,9.08,0.64,0.00,7\n",
            "200,1.51609,15.01,0.00,2.51,73.05,0.05,8.83,0.53,0.00,7\n",
            "201,1.51508,15.15,0.00,2.25,73.50,0.00,8.34,0.63,0.00,7\n",
            "202,1.51653,11.95,0.00,1.19,75.18,2.70,8.93,0.00,0.00,7\n",
            "203,1.51514,14.85,0.00,2.42,73.72,0.00,8.39,0.56,0.00,7\n",
            "204,1.51658,14.80,0.00,1.99,73.11,0.00,8.28,1.71,0.00,7\n",
            "205,1.51617,14.95,0.00,2.27,73.30,0.00,8.71,0.67,0.00,7\n",
            "206,1.51732,14.95,0.00,1.80,72.99,0.00,8.61,1.55,0.00,7\n",
            "207,1.51645,14.94,0.00,1.87,73.11,0.00,8.67,1.38,0.00,7\n",
            "208,1.51831,14.39,0.00,1.82,72.86,1.41,6.47,2.88,0.00,7\n",
            "209,1.51640,14.37,0.00,2.74,72.85,0.00,9.45,0.54,0.00,7\n",
            "210,1.51623,14.14,0.00,2.88,72.61,0.08,9.18,1.06,0.00,7\n",
            "211,1.51685,14.92,0.00,1.99,73.06,0.00,8.40,1.59,0.00,7\n",
            "212,1.52065,14.36,0.00,2.02,73.42,0.00,8.44,1.64,0.00,7\n",
            "213,1.51651,14.38,0.00,1.94,73.61,0.00,8.48,1.57,0.00,7\n",
            "214,1.51711,14.23,0.00,2.08,73.36,0.00,8.62,1.67,0.00,7\n",
            "\n"
          ]
        }
      ]
    },
    {
      "cell_type": "code",
      "source": [
        "df = pd.read_csv(file_path, header=None)\n",
        "print(df.head())\n"
      ],
      "metadata": {
        "colab": {
          "base_uri": "https://localhost:8080/"
        },
        "id": "0dYE-gmtYsIg",
        "outputId": "05083e4b-2b55-4ad6-ecbc-4a9a0eea08a3"
      },
      "execution_count": null,
      "outputs": [
        {
          "output_type": "stream",
          "name": "stdout",
          "text": [
            "         0         1         2         3         4         5         6   \\\n",
            "0  column_a  column_b  column_c  column_d  column_e  column_f  column_g   \n",
            "1         1   1.52101     13.64      4.49      1.10     71.78      0.06   \n",
            "2         2   1.51761     13.89      3.60      1.36     72.73      0.48   \n",
            "3         3   1.51618     13.53      3.55      1.54     72.99      0.39   \n",
            "4         4   1.51766     13.21      3.69      1.29     72.61      0.57   \n",
            "\n",
            "         7         8         9         10  \n",
            "0  column_h  column_i  column_j  column_k  \n",
            "1      8.75      0.00      0.00         1  \n",
            "2      7.83      0.00      0.00         1  \n",
            "3      7.78      0.00      0.00         1  \n",
            "4      8.22      0.00      0.00         1  \n"
          ]
        }
      ]
    },
    {
      "cell_type": "code",
      "source": [
        "# 결측값 확인\n",
        "print(df.isnull().sum())\n"
      ],
      "metadata": {
        "colab": {
          "base_uri": "https://localhost:8080/"
        },
        "id": "X6aJO4YrYuD3",
        "outputId": "b3872ec2-11a4-4fe9-fe5f-f3bfaa55becc"
      },
      "execution_count": null,
      "outputs": [
        {
          "output_type": "stream",
          "name": "stdout",
          "text": [
            "0     0\n",
            "1     0\n",
            "2     0\n",
            "3     0\n",
            "4     0\n",
            "5     0\n",
            "6     0\n",
            "7     0\n",
            "8     0\n",
            "9     0\n",
            "10    0\n",
            "dtype: int64\n"
          ]
        }
      ]
    },
    {
      "cell_type": "code",
      "source": [
        "# 각 컬럼의 고유 값 확인\n",
        "print(df.nunique())\n",
        "print(df.describe())\n"
      ],
      "metadata": {
        "colab": {
          "base_uri": "https://localhost:8080/"
        },
        "id": "aw8yrGgbYxHu",
        "outputId": "d6f4d030-f59f-4da9-96bc-aebb79688f65"
      },
      "execution_count": null,
      "outputs": [
        {
          "output_type": "stream",
          "name": "stdout",
          "text": [
            "0     215\n",
            "1     179\n",
            "2     143\n",
            "3      95\n",
            "4     119\n",
            "5     134\n",
            "6      66\n",
            "7     144\n",
            "8      35\n",
            "9      33\n",
            "10      7\n",
            "dtype: int64\n",
            "              0        1      2     3     4      5     6     7     8     9   \\\n",
            "count        215      215    215   215   215    215   215   215   215   215   \n",
            "unique       215      179    143    95   119    134    66   144    35    33   \n",
            "top     column_a  1.52152  13.21  0.00  1.54  73.11  0.00  8.03  0.00  0.00   \n",
            "freq           1        3      5    42     8      4    30     5   176   144   \n",
            "\n",
            "         10  \n",
            "count   215  \n",
            "unique    7  \n",
            "top       2  \n",
            "freq     76  \n"
          ]
        }
      ]
    },
    {
      "cell_type": "code",
      "source": [
        "# 컬럼 이름 변경\n",
        "df.columns = ['RI', 'Na', 'Mg', 'Al', 'Si', 'K', 'Ca', 'Ba', 'Fe', 'Type']\n",
        "print(df.head())\n"
      ],
      "metadata": {
        "colab": {
          "base_uri": "https://localhost:8080/",
          "height": 375
        },
        "id": "MTlVDvq7Y8UD",
        "outputId": "2e3c9cea-d403-45cd-ba7c-8c9a97ecb23c"
      },
      "execution_count": null,
      "outputs": [
        {
          "output_type": "error",
          "ename": "ValueError",
          "evalue": "Length mismatch: Expected axis has 11 elements, new values have 10 elements",
          "traceback": [
            "\u001b[0;31m---------------------------------------------------------------------------\u001b[0m",
            "\u001b[0;31mValueError\u001b[0m                                Traceback (most recent call last)",
            "\u001b[0;32m<ipython-input-16-1e90d3746f18>\u001b[0m in \u001b[0;36m<cell line: 2>\u001b[0;34m()\u001b[0m\n\u001b[1;32m      1\u001b[0m \u001b[0;31m# 컬럼 이름 변경\u001b[0m\u001b[0;34m\u001b[0m\u001b[0;34m\u001b[0m\u001b[0m\n\u001b[0;32m----> 2\u001b[0;31m \u001b[0mdf\u001b[0m\u001b[0;34m.\u001b[0m\u001b[0mcolumns\u001b[0m \u001b[0;34m=\u001b[0m \u001b[0;34m[\u001b[0m\u001b[0;34m'RI'\u001b[0m\u001b[0;34m,\u001b[0m \u001b[0;34m'Na'\u001b[0m\u001b[0;34m,\u001b[0m \u001b[0;34m'Mg'\u001b[0m\u001b[0;34m,\u001b[0m \u001b[0;34m'Al'\u001b[0m\u001b[0;34m,\u001b[0m \u001b[0;34m'Si'\u001b[0m\u001b[0;34m,\u001b[0m \u001b[0;34m'K'\u001b[0m\u001b[0;34m,\u001b[0m \u001b[0;34m'Ca'\u001b[0m\u001b[0;34m,\u001b[0m \u001b[0;34m'Ba'\u001b[0m\u001b[0;34m,\u001b[0m \u001b[0;34m'Fe'\u001b[0m\u001b[0;34m,\u001b[0m \u001b[0;34m'Type'\u001b[0m\u001b[0;34m]\u001b[0m\u001b[0;34m\u001b[0m\u001b[0;34m\u001b[0m\u001b[0m\n\u001b[0m\u001b[1;32m      3\u001b[0m \u001b[0mprint\u001b[0m\u001b[0;34m(\u001b[0m\u001b[0mdf\u001b[0m\u001b[0;34m.\u001b[0m\u001b[0mhead\u001b[0m\u001b[0;34m(\u001b[0m\u001b[0;34m)\u001b[0m\u001b[0;34m)\u001b[0m\u001b[0;34m\u001b[0m\u001b[0;34m\u001b[0m\u001b[0m\n",
            "\u001b[0;32m/usr/local/lib/python3.10/dist-packages/pandas/core/generic.py\u001b[0m in \u001b[0;36m__setattr__\u001b[0;34m(self, name, value)\u001b[0m\n\u001b[1;32m   6311\u001b[0m         \u001b[0;32mtry\u001b[0m\u001b[0;34m:\u001b[0m\u001b[0;34m\u001b[0m\u001b[0;34m\u001b[0m\u001b[0m\n\u001b[1;32m   6312\u001b[0m             \u001b[0mobject\u001b[0m\u001b[0;34m.\u001b[0m\u001b[0m__getattribute__\u001b[0m\u001b[0;34m(\u001b[0m\u001b[0mself\u001b[0m\u001b[0;34m,\u001b[0m \u001b[0mname\u001b[0m\u001b[0;34m)\u001b[0m\u001b[0;34m\u001b[0m\u001b[0;34m\u001b[0m\u001b[0m\n\u001b[0;32m-> 6313\u001b[0;31m             \u001b[0;32mreturn\u001b[0m \u001b[0mobject\u001b[0m\u001b[0;34m.\u001b[0m\u001b[0m__setattr__\u001b[0m\u001b[0;34m(\u001b[0m\u001b[0mself\u001b[0m\u001b[0;34m,\u001b[0m \u001b[0mname\u001b[0m\u001b[0;34m,\u001b[0m \u001b[0mvalue\u001b[0m\u001b[0;34m)\u001b[0m\u001b[0;34m\u001b[0m\u001b[0;34m\u001b[0m\u001b[0m\n\u001b[0m\u001b[1;32m   6314\u001b[0m         \u001b[0;32mexcept\u001b[0m \u001b[0mAttributeError\u001b[0m\u001b[0;34m:\u001b[0m\u001b[0;34m\u001b[0m\u001b[0;34m\u001b[0m\u001b[0m\n\u001b[1;32m   6315\u001b[0m             \u001b[0;32mpass\u001b[0m\u001b[0;34m\u001b[0m\u001b[0;34m\u001b[0m\u001b[0m\n",
            "\u001b[0;32mproperties.pyx\u001b[0m in \u001b[0;36mpandas._libs.properties.AxisProperty.__set__\u001b[0;34m()\u001b[0m\n",
            "\u001b[0;32m/usr/local/lib/python3.10/dist-packages/pandas/core/generic.py\u001b[0m in \u001b[0;36m_set_axis\u001b[0;34m(self, axis, labels)\u001b[0m\n\u001b[1;32m    812\u001b[0m         \"\"\"\n\u001b[1;32m    813\u001b[0m         \u001b[0mlabels\u001b[0m \u001b[0;34m=\u001b[0m \u001b[0mensure_index\u001b[0m\u001b[0;34m(\u001b[0m\u001b[0mlabels\u001b[0m\u001b[0;34m)\u001b[0m\u001b[0;34m\u001b[0m\u001b[0;34m\u001b[0m\u001b[0m\n\u001b[0;32m--> 814\u001b[0;31m         \u001b[0mself\u001b[0m\u001b[0;34m.\u001b[0m\u001b[0m_mgr\u001b[0m\u001b[0;34m.\u001b[0m\u001b[0mset_axis\u001b[0m\u001b[0;34m(\u001b[0m\u001b[0maxis\u001b[0m\u001b[0;34m,\u001b[0m \u001b[0mlabels\u001b[0m\u001b[0;34m)\u001b[0m\u001b[0;34m\u001b[0m\u001b[0;34m\u001b[0m\u001b[0m\n\u001b[0m\u001b[1;32m    815\u001b[0m         \u001b[0mself\u001b[0m\u001b[0;34m.\u001b[0m\u001b[0m_clear_item_cache\u001b[0m\u001b[0;34m(\u001b[0m\u001b[0;34m)\u001b[0m\u001b[0;34m\u001b[0m\u001b[0;34m\u001b[0m\u001b[0m\n\u001b[1;32m    816\u001b[0m \u001b[0;34m\u001b[0m\u001b[0m\n",
            "\u001b[0;32m/usr/local/lib/python3.10/dist-packages/pandas/core/internals/managers.py\u001b[0m in \u001b[0;36mset_axis\u001b[0;34m(self, axis, new_labels)\u001b[0m\n\u001b[1;32m    236\u001b[0m     \u001b[0;32mdef\u001b[0m \u001b[0mset_axis\u001b[0m\u001b[0;34m(\u001b[0m\u001b[0mself\u001b[0m\u001b[0;34m,\u001b[0m \u001b[0maxis\u001b[0m\u001b[0;34m:\u001b[0m \u001b[0mAxisInt\u001b[0m\u001b[0;34m,\u001b[0m \u001b[0mnew_labels\u001b[0m\u001b[0;34m:\u001b[0m \u001b[0mIndex\u001b[0m\u001b[0;34m)\u001b[0m \u001b[0;34m->\u001b[0m \u001b[0;32mNone\u001b[0m\u001b[0;34m:\u001b[0m\u001b[0;34m\u001b[0m\u001b[0;34m\u001b[0m\u001b[0m\n\u001b[1;32m    237\u001b[0m         \u001b[0;31m# Caller is responsible for ensuring we have an Index object.\u001b[0m\u001b[0;34m\u001b[0m\u001b[0;34m\u001b[0m\u001b[0m\n\u001b[0;32m--> 238\u001b[0;31m         \u001b[0mself\u001b[0m\u001b[0;34m.\u001b[0m\u001b[0m_validate_set_axis\u001b[0m\u001b[0;34m(\u001b[0m\u001b[0maxis\u001b[0m\u001b[0;34m,\u001b[0m \u001b[0mnew_labels\u001b[0m\u001b[0;34m)\u001b[0m\u001b[0;34m\u001b[0m\u001b[0;34m\u001b[0m\u001b[0m\n\u001b[0m\u001b[1;32m    239\u001b[0m         \u001b[0mself\u001b[0m\u001b[0;34m.\u001b[0m\u001b[0maxes\u001b[0m\u001b[0;34m[\u001b[0m\u001b[0maxis\u001b[0m\u001b[0;34m]\u001b[0m \u001b[0;34m=\u001b[0m \u001b[0mnew_labels\u001b[0m\u001b[0;34m\u001b[0m\u001b[0;34m\u001b[0m\u001b[0m\n\u001b[1;32m    240\u001b[0m \u001b[0;34m\u001b[0m\u001b[0m\n",
            "\u001b[0;32m/usr/local/lib/python3.10/dist-packages/pandas/core/internals/base.py\u001b[0m in \u001b[0;36m_validate_set_axis\u001b[0;34m(self, axis, new_labels)\u001b[0m\n\u001b[1;32m     96\u001b[0m \u001b[0;34m\u001b[0m\u001b[0m\n\u001b[1;32m     97\u001b[0m         \u001b[0;32melif\u001b[0m \u001b[0mnew_len\u001b[0m \u001b[0;34m!=\u001b[0m \u001b[0mold_len\u001b[0m\u001b[0;34m:\u001b[0m\u001b[0;34m\u001b[0m\u001b[0;34m\u001b[0m\u001b[0m\n\u001b[0;32m---> 98\u001b[0;31m             raise ValueError(\n\u001b[0m\u001b[1;32m     99\u001b[0m                 \u001b[0;34mf\"Length mismatch: Expected axis has {old_len} elements, new \"\u001b[0m\u001b[0;34m\u001b[0m\u001b[0;34m\u001b[0m\u001b[0m\n\u001b[1;32m    100\u001b[0m                 \u001b[0;34mf\"values have {new_len} elements\"\u001b[0m\u001b[0;34m\u001b[0m\u001b[0;34m\u001b[0m\u001b[0m\n",
            "\u001b[0;31mValueError\u001b[0m: Length mismatch: Expected axis has 11 elements, new values have 10 elements"
          ]
        }
      ]
    },
    {
      "cell_type": "code",
      "source": [
        "print(\"컬럼 개수:\", len(df.columns))\n",
        "print(\"컬럼 이름:\", df.columns)\n"
      ],
      "metadata": {
        "colab": {
          "base_uri": "https://localhost:8080/"
        },
        "id": "qo1H2hoAZBEc",
        "outputId": "a80527ac-de67-4c47-aa75-9a506f86cff5"
      },
      "execution_count": null,
      "outputs": [
        {
          "output_type": "stream",
          "name": "stdout",
          "text": [
            "컬럼 개수: 11\n",
            "컬럼 이름: Index([0, 1, 2, 3, 4, 5, 6, 7, 8, 9, 10], dtype='int64')\n"
          ]
        }
      ]
    },
    {
      "cell_type": "code",
      "source": [
        "# 불필요한 첫 번째 컬럼(인덱스 컬럼) 제거\n",
        "df = df.iloc[:, 1:]  # 첫 번째 컬럼 제거\n",
        "print(\"수정된 컬럼 개수:\", len(df.columns))\n"
      ],
      "metadata": {
        "colab": {
          "base_uri": "https://localhost:8080/"
        },
        "id": "VBCfWQ1nZFw8",
        "outputId": "a8d2ebfb-9299-4924-9561-9e92e38ffc64"
      },
      "execution_count": null,
      "outputs": [
        {
          "output_type": "stream",
          "name": "stdout",
          "text": [
            "수정된 컬럼 개수: 10\n"
          ]
        }
      ]
    },
    {
      "cell_type": "code",
      "source": [
        "df.columns = ['RI', 'Na', 'Mg', 'Al', 'Si', 'K', 'Ca', 'Ba', 'Fe', 'Type']\n",
        "print(df.head())\n"
      ],
      "metadata": {
        "colab": {
          "base_uri": "https://localhost:8080/"
        },
        "id": "KwhfA_5gZHAw",
        "outputId": "1018b9df-39d1-44fd-9aef-e4cf0e81fec1"
      },
      "execution_count": null,
      "outputs": [
        {
          "output_type": "stream",
          "name": "stdout",
          "text": [
            "         RI        Na        Mg        Al        Si         K        Ca  \\\n",
            "0  column_b  column_c  column_d  column_e  column_f  column_g  column_h   \n",
            "1   1.52101     13.64      4.49      1.10     71.78      0.06      8.75   \n",
            "2   1.51761     13.89      3.60      1.36     72.73      0.48      7.83   \n",
            "3   1.51618     13.53      3.55      1.54     72.99      0.39      7.78   \n",
            "4   1.51766     13.21      3.69      1.29     72.61      0.57      8.22   \n",
            "\n",
            "         Ba        Fe      Type  \n",
            "0  column_i  column_j  column_k  \n",
            "1      0.00      0.00         1  \n",
            "2      0.00      0.00         1  \n",
            "3      0.00      0.00         1  \n",
            "4      0.00      0.00         1  \n"
          ]
        }
      ]
    },
    {
      "cell_type": "code",
      "source": [
        "# 첫 번째 행 제거\n",
        "df = df[1:].reset_index(drop=True)\n",
        "\n",
        "# 데이터 확인\n",
        "print(df.head())\n"
      ],
      "metadata": {
        "colab": {
          "base_uri": "https://localhost:8080/"
        },
        "id": "xbjUhStKZk9C",
        "outputId": "79be5336-bbe9-45c1-e071-64e110ce0348"
      },
      "execution_count": null,
      "outputs": [
        {
          "output_type": "stream",
          "name": "stdout",
          "text": [
            "        RI     Na    Mg    Al     Si     K    Ca    Ba    Fe Type\n",
            "0  1.52101  13.64  4.49  1.10  71.78  0.06  8.75  0.00  0.00    1\n",
            "1  1.51761  13.89  3.60  1.36  72.73  0.48  7.83  0.00  0.00    1\n",
            "2  1.51618  13.53  3.55  1.54  72.99  0.39  7.78  0.00  0.00    1\n",
            "3  1.51766  13.21  3.69  1.29  72.61  0.57  8.22  0.00  0.00    1\n",
            "4  1.51742  13.27  3.62  1.24  73.08  0.55  8.07  0.00  0.00    1\n"
          ]
        }
      ]
    },
    {
      "cell_type": "code",
      "source": [
        "# 모든 열을 적절한 데이터 타입으로 변환\n",
        "numeric_columns = ['RI', 'Na', 'Mg', 'Al', 'Si', 'K', 'Ca', 'Ba', 'Fe']\n",
        "for col in numeric_columns:\n",
        "    df[col] = pd.to_numeric(df[col], errors='coerce')\n",
        "\n",
        "# 'Type' 열은 정수형으로 변환\n",
        "df['Type'] = df['Type'].astype(int)\n",
        "\n",
        "# 데이터 타입 확인\n",
        "print(df.dtypes)\n"
      ],
      "metadata": {
        "colab": {
          "base_uri": "https://localhost:8080/"
        },
        "id": "hnkMdm7KZl_-",
        "outputId": "3250be48-50bb-47cb-ee5b-fe521820d430"
      },
      "execution_count": null,
      "outputs": [
        {
          "output_type": "stream",
          "name": "stdout",
          "text": [
            "RI      float64\n",
            "Na      float64\n",
            "Mg      float64\n",
            "Al      float64\n",
            "Si      float64\n",
            "K       float64\n",
            "Ca      float64\n",
            "Ba      float64\n",
            "Fe      float64\n",
            "Type      int64\n",
            "dtype: object\n"
          ]
        }
      ]
    },
    {
      "cell_type": "code",
      "source": [
        "# 결측치 확인\n",
        "print(df.isnull().sum())\n",
        "\n",
        "# 결측치 제거\n",
        "df = df.dropna()\n",
        "\n",
        "# 결측치 제거 후 데이터 확인\n",
        "print(df.shape)\n"
      ],
      "metadata": {
        "colab": {
          "base_uri": "https://localhost:8080/"
        },
        "id": "ZjEQanbXZoMt",
        "outputId": "f35d11f6-ad11-44f4-95c4-eeeab70db2d5"
      },
      "execution_count": null,
      "outputs": [
        {
          "output_type": "stream",
          "name": "stdout",
          "text": [
            "RI      0\n",
            "Na      0\n",
            "Mg      0\n",
            "Al      0\n",
            "Si      0\n",
            "K       0\n",
            "Ca      0\n",
            "Ba      0\n",
            "Fe      0\n",
            "Type    0\n",
            "dtype: int64\n",
            "(214, 10)\n"
          ]
        }
      ]
    },
    {
      "cell_type": "code",
      "source": [
        "# 독립 변수 (X)와 종속 변수 (y) 분리\n",
        "X = df[numeric_columns]  # 특징 데이터\n",
        "y = df['Type']  # 라벨 데이터\n",
        "\n",
        "# 데이터 확인\n",
        "print(X.head())\n",
        "print(y.head())\n"
      ],
      "metadata": {
        "colab": {
          "base_uri": "https://localhost:8080/"
        },
        "id": "0IogV_UUZrvY",
        "outputId": "6a520c04-02e8-4f2c-9cc6-ed6d2f3fb315"
      },
      "execution_count": null,
      "outputs": [
        {
          "output_type": "stream",
          "name": "stdout",
          "text": [
            "        RI     Na    Mg    Al     Si     K    Ca   Ba   Fe\n",
            "0  1.52101  13.64  4.49  1.10  71.78  0.06  8.75  0.0  0.0\n",
            "1  1.51761  13.89  3.60  1.36  72.73  0.48  7.83  0.0  0.0\n",
            "2  1.51618  13.53  3.55  1.54  72.99  0.39  7.78  0.0  0.0\n",
            "3  1.51766  13.21  3.69  1.29  72.61  0.57  8.22  0.0  0.0\n",
            "4  1.51742  13.27  3.62  1.24  73.08  0.55  8.07  0.0  0.0\n",
            "0    1\n",
            "1    1\n",
            "2    1\n",
            "3    1\n",
            "4    1\n",
            "Name: Type, dtype: int64\n"
          ]
        }
      ]
    },
    {
      "cell_type": "code",
      "source": [
        "from sklearn.model_selection import train_test_split\n",
        "\n",
        "# 80% 학습, 20% 테스트 데이터로 분할\n",
        "X_train, X_test, y_train, y_test = train_test_split(X, y, test_size=0.2, random_state=42)\n",
        "\n",
        "# 분할된 데이터 크기 확인\n",
        "print(\"Train data shape:\", X_train.shape)\n",
        "print(\"Test data shape:\", X_test.shape)\n"
      ],
      "metadata": {
        "colab": {
          "base_uri": "https://localhost:8080/"
        },
        "id": "8JSpX6BeZt3K",
        "outputId": "e13dfea0-e16b-4f84-de85-18db0f790cdd"
      },
      "execution_count": null,
      "outputs": [
        {
          "output_type": "stream",
          "name": "stdout",
          "text": [
            "Train data shape: (171, 9)\n",
            "Test data shape: (43, 9)\n"
          ]
        }
      ]
    },
    {
      "cell_type": "code",
      "source": [
        "from sklearn.linear_model import LogisticRegression\n",
        "\n",
        "# 로지스틱 회귀 모델 생성 및 학습\n",
        "model = LogisticRegression(max_iter=1000, random_state=42)  # 반복 횟수 증가\n",
        "model.fit(X_train, y_train)\n"
      ],
      "metadata": {
        "colab": {
          "base_uri": "https://localhost:8080/",
          "height": 228
        },
        "id": "ue_f5MKkagi2",
        "outputId": "0cf85bee-1d36-454e-ddd1-a2cdd8489689"
      },
      "execution_count": null,
      "outputs": [
        {
          "output_type": "stream",
          "name": "stderr",
          "text": [
            "/usr/local/lib/python3.10/dist-packages/sklearn/linear_model/_logistic.py:465: ConvergenceWarning: lbfgs failed to converge (status=1):\n",
            "STOP: TOTAL NO. of ITERATIONS REACHED LIMIT.\n",
            "\n",
            "Increase the number of iterations (max_iter) or scale the data as shown in:\n",
            "    https://scikit-learn.org/stable/modules/preprocessing.html\n",
            "Please also refer to the documentation for alternative solver options:\n",
            "    https://scikit-learn.org/stable/modules/linear_model.html#logistic-regression\n",
            "  n_iter_i = _check_optimize_result(\n"
          ]
        },
        {
          "output_type": "execute_result",
          "data": {
            "text/plain": [
              "LogisticRegression(max_iter=1000, random_state=42)"
            ],
            "text/html": [
              "<style>#sk-container-id-1 {\n",
              "  /* Definition of color scheme common for light and dark mode */\n",
              "  --sklearn-color-text: #000;\n",
              "  --sklearn-color-text-muted: #666;\n",
              "  --sklearn-color-line: gray;\n",
              "  /* Definition of color scheme for unfitted estimators */\n",
              "  --sklearn-color-unfitted-level-0: #fff5e6;\n",
              "  --sklearn-color-unfitted-level-1: #f6e4d2;\n",
              "  --sklearn-color-unfitted-level-2: #ffe0b3;\n",
              "  --sklearn-color-unfitted-level-3: chocolate;\n",
              "  /* Definition of color scheme for fitted estimators */\n",
              "  --sklearn-color-fitted-level-0: #f0f8ff;\n",
              "  --sklearn-color-fitted-level-1: #d4ebff;\n",
              "  --sklearn-color-fitted-level-2: #b3dbfd;\n",
              "  --sklearn-color-fitted-level-3: cornflowerblue;\n",
              "\n",
              "  /* Specific color for light theme */\n",
              "  --sklearn-color-text-on-default-background: var(--sg-text-color, var(--theme-code-foreground, var(--jp-content-font-color1, black)));\n",
              "  --sklearn-color-background: var(--sg-background-color, var(--theme-background, var(--jp-layout-color0, white)));\n",
              "  --sklearn-color-border-box: var(--sg-text-color, var(--theme-code-foreground, var(--jp-content-font-color1, black)));\n",
              "  --sklearn-color-icon: #696969;\n",
              "\n",
              "  @media (prefers-color-scheme: dark) {\n",
              "    /* Redefinition of color scheme for dark theme */\n",
              "    --sklearn-color-text-on-default-background: var(--sg-text-color, var(--theme-code-foreground, var(--jp-content-font-color1, white)));\n",
              "    --sklearn-color-background: var(--sg-background-color, var(--theme-background, var(--jp-layout-color0, #111)));\n",
              "    --sklearn-color-border-box: var(--sg-text-color, var(--theme-code-foreground, var(--jp-content-font-color1, white)));\n",
              "    --sklearn-color-icon: #878787;\n",
              "  }\n",
              "}\n",
              "\n",
              "#sk-container-id-1 {\n",
              "  color: var(--sklearn-color-text);\n",
              "}\n",
              "\n",
              "#sk-container-id-1 pre {\n",
              "  padding: 0;\n",
              "}\n",
              "\n",
              "#sk-container-id-1 input.sk-hidden--visually {\n",
              "  border: 0;\n",
              "  clip: rect(1px 1px 1px 1px);\n",
              "  clip: rect(1px, 1px, 1px, 1px);\n",
              "  height: 1px;\n",
              "  margin: -1px;\n",
              "  overflow: hidden;\n",
              "  padding: 0;\n",
              "  position: absolute;\n",
              "  width: 1px;\n",
              "}\n",
              "\n",
              "#sk-container-id-1 div.sk-dashed-wrapped {\n",
              "  border: 1px dashed var(--sklearn-color-line);\n",
              "  margin: 0 0.4em 0.5em 0.4em;\n",
              "  box-sizing: border-box;\n",
              "  padding-bottom: 0.4em;\n",
              "  background-color: var(--sklearn-color-background);\n",
              "}\n",
              "\n",
              "#sk-container-id-1 div.sk-container {\n",
              "  /* jupyter's `normalize.less` sets `[hidden] { display: none; }`\n",
              "     but bootstrap.min.css set `[hidden] { display: none !important; }`\n",
              "     so we also need the `!important` here to be able to override the\n",
              "     default hidden behavior on the sphinx rendered scikit-learn.org.\n",
              "     See: https://github.com/scikit-learn/scikit-learn/issues/21755 */\n",
              "  display: inline-block !important;\n",
              "  position: relative;\n",
              "}\n",
              "\n",
              "#sk-container-id-1 div.sk-text-repr-fallback {\n",
              "  display: none;\n",
              "}\n",
              "\n",
              "div.sk-parallel-item,\n",
              "div.sk-serial,\n",
              "div.sk-item {\n",
              "  /* draw centered vertical line to link estimators */\n",
              "  background-image: linear-gradient(var(--sklearn-color-text-on-default-background), var(--sklearn-color-text-on-default-background));\n",
              "  background-size: 2px 100%;\n",
              "  background-repeat: no-repeat;\n",
              "  background-position: center center;\n",
              "}\n",
              "\n",
              "/* Parallel-specific style estimator block */\n",
              "\n",
              "#sk-container-id-1 div.sk-parallel-item::after {\n",
              "  content: \"\";\n",
              "  width: 100%;\n",
              "  border-bottom: 2px solid var(--sklearn-color-text-on-default-background);\n",
              "  flex-grow: 1;\n",
              "}\n",
              "\n",
              "#sk-container-id-1 div.sk-parallel {\n",
              "  display: flex;\n",
              "  align-items: stretch;\n",
              "  justify-content: center;\n",
              "  background-color: var(--sklearn-color-background);\n",
              "  position: relative;\n",
              "}\n",
              "\n",
              "#sk-container-id-1 div.sk-parallel-item {\n",
              "  display: flex;\n",
              "  flex-direction: column;\n",
              "}\n",
              "\n",
              "#sk-container-id-1 div.sk-parallel-item:first-child::after {\n",
              "  align-self: flex-end;\n",
              "  width: 50%;\n",
              "}\n",
              "\n",
              "#sk-container-id-1 div.sk-parallel-item:last-child::after {\n",
              "  align-self: flex-start;\n",
              "  width: 50%;\n",
              "}\n",
              "\n",
              "#sk-container-id-1 div.sk-parallel-item:only-child::after {\n",
              "  width: 0;\n",
              "}\n",
              "\n",
              "/* Serial-specific style estimator block */\n",
              "\n",
              "#sk-container-id-1 div.sk-serial {\n",
              "  display: flex;\n",
              "  flex-direction: column;\n",
              "  align-items: center;\n",
              "  background-color: var(--sklearn-color-background);\n",
              "  padding-right: 1em;\n",
              "  padding-left: 1em;\n",
              "}\n",
              "\n",
              "\n",
              "/* Toggleable style: style used for estimator/Pipeline/ColumnTransformer box that is\n",
              "clickable and can be expanded/collapsed.\n",
              "- Pipeline and ColumnTransformer use this feature and define the default style\n",
              "- Estimators will overwrite some part of the style using the `sk-estimator` class\n",
              "*/\n",
              "\n",
              "/* Pipeline and ColumnTransformer style (default) */\n",
              "\n",
              "#sk-container-id-1 div.sk-toggleable {\n",
              "  /* Default theme specific background. It is overwritten whether we have a\n",
              "  specific estimator or a Pipeline/ColumnTransformer */\n",
              "  background-color: var(--sklearn-color-background);\n",
              "}\n",
              "\n",
              "/* Toggleable label */\n",
              "#sk-container-id-1 label.sk-toggleable__label {\n",
              "  cursor: pointer;\n",
              "  display: flex;\n",
              "  width: 100%;\n",
              "  margin-bottom: 0;\n",
              "  padding: 0.5em;\n",
              "  box-sizing: border-box;\n",
              "  text-align: center;\n",
              "  align-items: start;\n",
              "  justify-content: space-between;\n",
              "  gap: 0.5em;\n",
              "}\n",
              "\n",
              "#sk-container-id-1 label.sk-toggleable__label .caption {\n",
              "  font-size: 0.6rem;\n",
              "  font-weight: lighter;\n",
              "  color: var(--sklearn-color-text-muted);\n",
              "}\n",
              "\n",
              "#sk-container-id-1 label.sk-toggleable__label-arrow:before {\n",
              "  /* Arrow on the left of the label */\n",
              "  content: \"▸\";\n",
              "  float: left;\n",
              "  margin-right: 0.25em;\n",
              "  color: var(--sklearn-color-icon);\n",
              "}\n",
              "\n",
              "#sk-container-id-1 label.sk-toggleable__label-arrow:hover:before {\n",
              "  color: var(--sklearn-color-text);\n",
              "}\n",
              "\n",
              "/* Toggleable content - dropdown */\n",
              "\n",
              "#sk-container-id-1 div.sk-toggleable__content {\n",
              "  max-height: 0;\n",
              "  max-width: 0;\n",
              "  overflow: hidden;\n",
              "  text-align: left;\n",
              "  /* unfitted */\n",
              "  background-color: var(--sklearn-color-unfitted-level-0);\n",
              "}\n",
              "\n",
              "#sk-container-id-1 div.sk-toggleable__content.fitted {\n",
              "  /* fitted */\n",
              "  background-color: var(--sklearn-color-fitted-level-0);\n",
              "}\n",
              "\n",
              "#sk-container-id-1 div.sk-toggleable__content pre {\n",
              "  margin: 0.2em;\n",
              "  border-radius: 0.25em;\n",
              "  color: var(--sklearn-color-text);\n",
              "  /* unfitted */\n",
              "  background-color: var(--sklearn-color-unfitted-level-0);\n",
              "}\n",
              "\n",
              "#sk-container-id-1 div.sk-toggleable__content.fitted pre {\n",
              "  /* unfitted */\n",
              "  background-color: var(--sklearn-color-fitted-level-0);\n",
              "}\n",
              "\n",
              "#sk-container-id-1 input.sk-toggleable__control:checked~div.sk-toggleable__content {\n",
              "  /* Expand drop-down */\n",
              "  max-height: 200px;\n",
              "  max-width: 100%;\n",
              "  overflow: auto;\n",
              "}\n",
              "\n",
              "#sk-container-id-1 input.sk-toggleable__control:checked~label.sk-toggleable__label-arrow:before {\n",
              "  content: \"▾\";\n",
              "}\n",
              "\n",
              "/* Pipeline/ColumnTransformer-specific style */\n",
              "\n",
              "#sk-container-id-1 div.sk-label input.sk-toggleable__control:checked~label.sk-toggleable__label {\n",
              "  color: var(--sklearn-color-text);\n",
              "  background-color: var(--sklearn-color-unfitted-level-2);\n",
              "}\n",
              "\n",
              "#sk-container-id-1 div.sk-label.fitted input.sk-toggleable__control:checked~label.sk-toggleable__label {\n",
              "  background-color: var(--sklearn-color-fitted-level-2);\n",
              "}\n",
              "\n",
              "/* Estimator-specific style */\n",
              "\n",
              "/* Colorize estimator box */\n",
              "#sk-container-id-1 div.sk-estimator input.sk-toggleable__control:checked~label.sk-toggleable__label {\n",
              "  /* unfitted */\n",
              "  background-color: var(--sklearn-color-unfitted-level-2);\n",
              "}\n",
              "\n",
              "#sk-container-id-1 div.sk-estimator.fitted input.sk-toggleable__control:checked~label.sk-toggleable__label {\n",
              "  /* fitted */\n",
              "  background-color: var(--sklearn-color-fitted-level-2);\n",
              "}\n",
              "\n",
              "#sk-container-id-1 div.sk-label label.sk-toggleable__label,\n",
              "#sk-container-id-1 div.sk-label label {\n",
              "  /* The background is the default theme color */\n",
              "  color: var(--sklearn-color-text-on-default-background);\n",
              "}\n",
              "\n",
              "/* On hover, darken the color of the background */\n",
              "#sk-container-id-1 div.sk-label:hover label.sk-toggleable__label {\n",
              "  color: var(--sklearn-color-text);\n",
              "  background-color: var(--sklearn-color-unfitted-level-2);\n",
              "}\n",
              "\n",
              "/* Label box, darken color on hover, fitted */\n",
              "#sk-container-id-1 div.sk-label.fitted:hover label.sk-toggleable__label.fitted {\n",
              "  color: var(--sklearn-color-text);\n",
              "  background-color: var(--sklearn-color-fitted-level-2);\n",
              "}\n",
              "\n",
              "/* Estimator label */\n",
              "\n",
              "#sk-container-id-1 div.sk-label label {\n",
              "  font-family: monospace;\n",
              "  font-weight: bold;\n",
              "  display: inline-block;\n",
              "  line-height: 1.2em;\n",
              "}\n",
              "\n",
              "#sk-container-id-1 div.sk-label-container {\n",
              "  text-align: center;\n",
              "}\n",
              "\n",
              "/* Estimator-specific */\n",
              "#sk-container-id-1 div.sk-estimator {\n",
              "  font-family: monospace;\n",
              "  border: 1px dotted var(--sklearn-color-border-box);\n",
              "  border-radius: 0.25em;\n",
              "  box-sizing: border-box;\n",
              "  margin-bottom: 0.5em;\n",
              "  /* unfitted */\n",
              "  background-color: var(--sklearn-color-unfitted-level-0);\n",
              "}\n",
              "\n",
              "#sk-container-id-1 div.sk-estimator.fitted {\n",
              "  /* fitted */\n",
              "  background-color: var(--sklearn-color-fitted-level-0);\n",
              "}\n",
              "\n",
              "/* on hover */\n",
              "#sk-container-id-1 div.sk-estimator:hover {\n",
              "  /* unfitted */\n",
              "  background-color: var(--sklearn-color-unfitted-level-2);\n",
              "}\n",
              "\n",
              "#sk-container-id-1 div.sk-estimator.fitted:hover {\n",
              "  /* fitted */\n",
              "  background-color: var(--sklearn-color-fitted-level-2);\n",
              "}\n",
              "\n",
              "/* Specification for estimator info (e.g. \"i\" and \"?\") */\n",
              "\n",
              "/* Common style for \"i\" and \"?\" */\n",
              "\n",
              ".sk-estimator-doc-link,\n",
              "a:link.sk-estimator-doc-link,\n",
              "a:visited.sk-estimator-doc-link {\n",
              "  float: right;\n",
              "  font-size: smaller;\n",
              "  line-height: 1em;\n",
              "  font-family: monospace;\n",
              "  background-color: var(--sklearn-color-background);\n",
              "  border-radius: 1em;\n",
              "  height: 1em;\n",
              "  width: 1em;\n",
              "  text-decoration: none !important;\n",
              "  margin-left: 0.5em;\n",
              "  text-align: center;\n",
              "  /* unfitted */\n",
              "  border: var(--sklearn-color-unfitted-level-1) 1pt solid;\n",
              "  color: var(--sklearn-color-unfitted-level-1);\n",
              "}\n",
              "\n",
              ".sk-estimator-doc-link.fitted,\n",
              "a:link.sk-estimator-doc-link.fitted,\n",
              "a:visited.sk-estimator-doc-link.fitted {\n",
              "  /* fitted */\n",
              "  border: var(--sklearn-color-fitted-level-1) 1pt solid;\n",
              "  color: var(--sklearn-color-fitted-level-1);\n",
              "}\n",
              "\n",
              "/* On hover */\n",
              "div.sk-estimator:hover .sk-estimator-doc-link:hover,\n",
              ".sk-estimator-doc-link:hover,\n",
              "div.sk-label-container:hover .sk-estimator-doc-link:hover,\n",
              ".sk-estimator-doc-link:hover {\n",
              "  /* unfitted */\n",
              "  background-color: var(--sklearn-color-unfitted-level-3);\n",
              "  color: var(--sklearn-color-background);\n",
              "  text-decoration: none;\n",
              "}\n",
              "\n",
              "div.sk-estimator.fitted:hover .sk-estimator-doc-link.fitted:hover,\n",
              ".sk-estimator-doc-link.fitted:hover,\n",
              "div.sk-label-container:hover .sk-estimator-doc-link.fitted:hover,\n",
              ".sk-estimator-doc-link.fitted:hover {\n",
              "  /* fitted */\n",
              "  background-color: var(--sklearn-color-fitted-level-3);\n",
              "  color: var(--sklearn-color-background);\n",
              "  text-decoration: none;\n",
              "}\n",
              "\n",
              "/* Span, style for the box shown on hovering the info icon */\n",
              ".sk-estimator-doc-link span {\n",
              "  display: none;\n",
              "  z-index: 9999;\n",
              "  position: relative;\n",
              "  font-weight: normal;\n",
              "  right: .2ex;\n",
              "  padding: .5ex;\n",
              "  margin: .5ex;\n",
              "  width: min-content;\n",
              "  min-width: 20ex;\n",
              "  max-width: 50ex;\n",
              "  color: var(--sklearn-color-text);\n",
              "  box-shadow: 2pt 2pt 4pt #999;\n",
              "  /* unfitted */\n",
              "  background: var(--sklearn-color-unfitted-level-0);\n",
              "  border: .5pt solid var(--sklearn-color-unfitted-level-3);\n",
              "}\n",
              "\n",
              ".sk-estimator-doc-link.fitted span {\n",
              "  /* fitted */\n",
              "  background: var(--sklearn-color-fitted-level-0);\n",
              "  border: var(--sklearn-color-fitted-level-3);\n",
              "}\n",
              "\n",
              ".sk-estimator-doc-link:hover span {\n",
              "  display: block;\n",
              "}\n",
              "\n",
              "/* \"?\"-specific style due to the `<a>` HTML tag */\n",
              "\n",
              "#sk-container-id-1 a.estimator_doc_link {\n",
              "  float: right;\n",
              "  font-size: 1rem;\n",
              "  line-height: 1em;\n",
              "  font-family: monospace;\n",
              "  background-color: var(--sklearn-color-background);\n",
              "  border-radius: 1rem;\n",
              "  height: 1rem;\n",
              "  width: 1rem;\n",
              "  text-decoration: none;\n",
              "  /* unfitted */\n",
              "  color: var(--sklearn-color-unfitted-level-1);\n",
              "  border: var(--sklearn-color-unfitted-level-1) 1pt solid;\n",
              "}\n",
              "\n",
              "#sk-container-id-1 a.estimator_doc_link.fitted {\n",
              "  /* fitted */\n",
              "  border: var(--sklearn-color-fitted-level-1) 1pt solid;\n",
              "  color: var(--sklearn-color-fitted-level-1);\n",
              "}\n",
              "\n",
              "/* On hover */\n",
              "#sk-container-id-1 a.estimator_doc_link:hover {\n",
              "  /* unfitted */\n",
              "  background-color: var(--sklearn-color-unfitted-level-3);\n",
              "  color: var(--sklearn-color-background);\n",
              "  text-decoration: none;\n",
              "}\n",
              "\n",
              "#sk-container-id-1 a.estimator_doc_link.fitted:hover {\n",
              "  /* fitted */\n",
              "  background-color: var(--sklearn-color-fitted-level-3);\n",
              "}\n",
              "</style><div id=\"sk-container-id-1\" class=\"sk-top-container\"><div class=\"sk-text-repr-fallback\"><pre>LogisticRegression(max_iter=1000, random_state=42)</pre><b>In a Jupyter environment, please rerun this cell to show the HTML representation or trust the notebook. <br />On GitHub, the HTML representation is unable to render, please try loading this page with nbviewer.org.</b></div><div class=\"sk-container\" hidden><div class=\"sk-item\"><div class=\"sk-estimator fitted sk-toggleable\"><input class=\"sk-toggleable__control sk-hidden--visually\" id=\"sk-estimator-id-1\" type=\"checkbox\" checked><label for=\"sk-estimator-id-1\" class=\"sk-toggleable__label fitted sk-toggleable__label-arrow\"><div><div>LogisticRegression</div></div><div><a class=\"sk-estimator-doc-link fitted\" rel=\"noreferrer\" target=\"_blank\" href=\"https://scikit-learn.org/1.6/modules/generated/sklearn.linear_model.LogisticRegression.html\">?<span>Documentation for LogisticRegression</span></a><span class=\"sk-estimator-doc-link fitted\">i<span>Fitted</span></span></div></label><div class=\"sk-toggleable__content fitted\"><pre>LogisticRegression(max_iter=1000, random_state=42)</pre></div> </div></div></div></div>"
            ]
          },
          "metadata": {},
          "execution_count": 27
        }
      ]
    },
    {
      "cell_type": "code",
      "source": [
        "import pandas as pd\n",
        "from sklearn.model_selection import train_test_split\n",
        "from sklearn.linear_model import LogisticRegression\n",
        "from sklearn.metrics import accuracy_score\n",
        "from sklearn.preprocessing import StandardScaler\n",
        "from sklearn.model_selection import cross_val_score\n",
        "\n",
        "# 1. 데이터 전처리\n",
        "df = df[1:].reset_index(drop=True)  # 첫 번째 행 제거\n",
        "numeric_columns = ['RI', 'Na', 'Mg', 'Al', 'Si', 'K', 'Ca', 'Ba', 'Fe']\n",
        "for col in numeric_columns:\n",
        "    df[col] = pd.to_numeric(df[col], errors='coerce')\n",
        "df['Type'] = df['Type'].astype(int)\n",
        "df = df.dropna()\n",
        "\n",
        "X = df[numeric_columns]\n",
        "y = df['Type']\n",
        "\n",
        "X_train, X_test, y_train, y_test = train_test_split(X, y, test_size=0.2, random_state=42)\n",
        "\n",
        "# 2. 데이터 스케일링\n",
        "scaler = StandardScaler()\n",
        "X_train_scaled = scaler.fit_transform(X_train)\n",
        "X_test_scaled = scaler.transform(X_test)\n",
        "\n",
        "# 3. 로지스틱 회귀 모델 학습\n",
        "model = LogisticRegression(max_iter=5000, random_state=42)\n",
        "model.fit(X_train_scaled, y_train)\n",
        "\n",
        "# 4. 초기 성능 평가\n",
        "y_pred = model.predict(X_test_scaled)\n",
        "accuracy = accuracy_score(y_test, y_pred)\n",
        "print(\"Test Accuracy:\", accuracy)\n",
        "\n",
        "# 5. 교차 검증\n",
        "cv_scores = cross_val_score(model, scaler.fit_transform(X), y, cv=5)\n",
        "print(\"Cross-Validation Scores:\", cv_scores)\n",
        "print(\"Mean CV Accuracy:\", cv_scores.mean())\n"
      ],
      "metadata": {
        "colab": {
          "base_uri": "https://localhost:8080/"
        },
        "id": "Afz8sI-MaqM2",
        "outputId": "7c8b35b2-1042-49ab-b8a2-526fd11adff6"
      },
      "execution_count": null,
      "outputs": [
        {
          "output_type": "stream",
          "name": "stdout",
          "text": [
            "Test Accuracy: 0.7209302325581395\n",
            "Cross-Validation Scores: [0.51162791 0.72093023 0.5952381  0.54761905 0.64285714]\n",
            "Mean CV Accuracy: 0.6036544850498339\n"
          ]
        }
      ]
    },
    {
      "source": [
        "!pip install catboost"
      ],
      "cell_type": "code",
      "metadata": {
        "colab": {
          "base_uri": "https://localhost:8080/"
        },
        "id": "bPzYQah4ucnt",
        "outputId": "2f5a7e34-0c56-48eb-e660-202b174f6b78"
      },
      "execution_count": null,
      "outputs": [
        {
          "output_type": "stream",
          "name": "stdout",
          "text": [
            "Collecting catboost\n",
            "  Downloading catboost-1.2.7-cp310-cp310-manylinux2014_x86_64.whl.metadata (1.2 kB)\n",
            "Requirement already satisfied: graphviz in /usr/local/lib/python3.10/dist-packages (from catboost) (0.20.3)\n",
            "Requirement already satisfied: matplotlib in /usr/local/lib/python3.10/dist-packages (from catboost) (3.8.0)\n",
            "Requirement already satisfied: numpy<2.0,>=1.16.0 in /usr/local/lib/python3.10/dist-packages (from catboost) (1.26.4)\n",
            "Requirement already satisfied: pandas>=0.24 in /usr/local/lib/python3.10/dist-packages (from catboost) (2.2.3)\n",
            "Requirement already satisfied: scipy in /usr/local/lib/python3.10/dist-packages (from catboost) (1.13.1)\n",
            "Requirement already satisfied: plotly in /usr/local/lib/python3.10/dist-packages (from catboost) (5.24.1)\n",
            "Requirement already satisfied: six in /usr/local/lib/python3.10/dist-packages (from catboost) (1.17.0)\n",
            "Requirement already satisfied: python-dateutil>=2.8.2 in /usr/local/lib/python3.10/dist-packages (from pandas>=0.24->catboost) (2.8.2)\n",
            "Requirement already satisfied: pytz>=2020.1 in /usr/local/lib/python3.10/dist-packages (from pandas>=0.24->catboost) (2024.2)\n",
            "Requirement already satisfied: tzdata>=2022.7 in /usr/local/lib/python3.10/dist-packages (from pandas>=0.24->catboost) (2024.2)\n",
            "Requirement already satisfied: contourpy>=1.0.1 in /usr/local/lib/python3.10/dist-packages (from matplotlib->catboost) (1.3.1)\n",
            "Requirement already satisfied: cycler>=0.10 in /usr/local/lib/python3.10/dist-packages (from matplotlib->catboost) (0.12.1)\n",
            "Requirement already satisfied: fonttools>=4.22.0 in /usr/local/lib/python3.10/dist-packages (from matplotlib->catboost) (4.55.3)\n",
            "Requirement already satisfied: kiwisolver>=1.0.1 in /usr/local/lib/python3.10/dist-packages (from matplotlib->catboost) (1.4.7)\n",
            "Requirement already satisfied: packaging>=20.0 in /usr/local/lib/python3.10/dist-packages (from matplotlib->catboost) (24.2)\n",
            "Requirement already satisfied: pillow>=6.2.0 in /usr/local/lib/python3.10/dist-packages (from matplotlib->catboost) (11.0.0)\n",
            "Requirement already satisfied: pyparsing>=2.3.1 in /usr/local/lib/python3.10/dist-packages (from matplotlib->catboost) (3.2.0)\n",
            "Requirement already satisfied: tenacity>=6.2.0 in /usr/local/lib/python3.10/dist-packages (from plotly->catboost) (9.0.0)\n",
            "Downloading catboost-1.2.7-cp310-cp310-manylinux2014_x86_64.whl (98.7 MB)\n",
            "\u001b[2K   \u001b[90m━━━━━━━━━━━━━━━━━━━━━━━━━━━━━━━━━━━━━━━━\u001b[0m \u001b[32m98.7/98.7 MB\u001b[0m \u001b[31m6.9 MB/s\u001b[0m eta \u001b[36m0:00:00\u001b[0m\n",
            "\u001b[?25hInstalling collected packages: catboost\n",
            "Successfully installed catboost-1.2.7\n"
          ]
        }
      ]
    },
    {
      "source": [
        "from catboost import CatBoostClassifier\n",
        "from sklearn.model_selection import train_test_split, cross_val_score\n",
        "from sklearn.metrics import accuracy_score, classification_report\n",
        "from sklearn.preprocessing import LabelEncoder\n",
        "\n",
        "# 데이터 준비\n",
        "X = df.drop(columns=['Type'])  # 독립 변수\n",
        "y = df['Type']  # 종속 변수\n",
        "\n",
        "# 레이블 인코딩\n",
        "label_encoder = LabelEncoder()\n",
        "y_encoded = label_encoder.fit_transform(y)\n",
        "\n",
        "# 데이터 나누기\n",
        "X_train, X_test, y_train, y_test = train_test_split(X, y_encoded, test_size=0.2, random_state=42)\n",
        "\n",
        "# 모델 생성\n",
        "catboost_model = CatBoostClassifier(iterations=100, learning_rate=0.1, depth=6, random_state=42, verbose=0)\n",
        "\n",
        "# 교차검증\n",
        "cv_scores = cross_val_score(catboost_model, X_train, y_train, cv=5, scoring='accuracy')\n",
        "print(\"Cross-Validation Scores:\", cv_scores)\n",
        "print(\"Mean CV Accuracy:\", cv_scores.mean())\n",
        "\n",
        "# 모델 학습\n",
        "catboost_model.fit(X_train, y_train)\n",
        "\n",
        "# 테스트 데이터로 예측\n",
        "y_pred = catboost_model.predict(X_test)\n",
        "\n",
        "# 성능 평가\n",
        "print(\"\\nTest Accuracy:\", accuracy_score(y_test, y_pred))\n",
        "print(\"\\nClassification Report:\\n\", classification_report(y_test, y_pred, target_names=label_encoder.classes_.astype(str)))"
      ],
      "cell_type": "code",
      "metadata": {
        "colab": {
          "base_uri": "https://localhost:8080/",
          "height": 855
        },
        "id": "ofmFfriKuvL4",
        "outputId": "684a71c2-f610-4b66-cdc6-e89a3bffbc3c"
      },
      "execution_count": null,
      "outputs": [
        {
          "output_type": "error",
          "ename": "ValueError",
          "evalue": "\nAll the 5 fits failed.\nIt is very likely that your model is misconfigured.\nYou can try to debug the error by setting error_score='raise'.\n\nBelow are more details about the failures:\n--------------------------------------------------------------------------------\n5 fits failed with the following error:\nTraceback (most recent call last):\n  File \"/usr/local/lib/python3.10/dist-packages/sklearn/model_selection/_validation.py\", line 866, in _fit_and_score\n    estimator.fit(X_train, y_train, **fit_params)\n  File \"/usr/local/lib/python3.10/dist-packages/catboost/core.py\", line 5245, in fit\n    self._fit(X, y, cat_features, text_features, embedding_features, None, graph, sample_weight, None, None, None, None, baseline, use_best_model,\n  File \"/usr/local/lib/python3.10/dist-packages/catboost/core.py\", line 2395, in _fit\n    train_params = self._prepare_train_params(\n  File \"/usr/local/lib/python3.10/dist-packages/catboost/core.py\", line 2275, in _prepare_train_params\n    train_pool = _build_train_pool(X, y, cat_features, text_features, embedding_features, pairs, graph,\n  File \"/usr/local/lib/python3.10/dist-packages/catboost/core.py\", line 1513, in _build_train_pool\n    train_pool = Pool(X, y, cat_features=cat_features, text_features=text_features, embedding_features=embedding_features, pairs=pairs, graph=graph, weight=sample_weight, group_id=group_id,\n  File \"/usr/local/lib/python3.10/dist-packages/catboost/core.py\", line 855, in __init__\n    self._init(data, label, cat_features, text_features, embedding_features, embedding_features_data, pairs, graph, weight,\n  File \"/usr/local/lib/python3.10/dist-packages/catboost/core.py\", line 1491, in _init\n    self._init_pool(data, label, cat_features, text_features, embedding_features, embedding_features_data, pairs, graph, weight,\n  File \"_catboost.pyx\", line 4339, in _catboost._PoolBase._init_pool\n  File \"_catboost.pyx\", line 4362, in _catboost._PoolBase._init_pool\n  File \"_catboost.pyx\", line 2323, in _catboost._init_features_layout\n_catboost.CatBoostError: catboost/libs/data/features_layout.cpp:124: All feature names should be different, but 'nan' used more than once.\n",
          "traceback": [
            "\u001b[0;31m---------------------------------------------------------------------------\u001b[0m",
            "\u001b[0;31mValueError\u001b[0m                                Traceback (most recent call last)",
            "\u001b[0;32m<ipython-input-73-86e51458791d>\u001b[0m in \u001b[0;36m<cell line: 21>\u001b[0;34m()\u001b[0m\n\u001b[1;32m     19\u001b[0m \u001b[0;34m\u001b[0m\u001b[0m\n\u001b[1;32m     20\u001b[0m \u001b[0;31m# 교차검증\u001b[0m\u001b[0;34m\u001b[0m\u001b[0;34m\u001b[0m\u001b[0m\n\u001b[0;32m---> 21\u001b[0;31m \u001b[0mcv_scores\u001b[0m \u001b[0;34m=\u001b[0m \u001b[0mcross_val_score\u001b[0m\u001b[0;34m(\u001b[0m\u001b[0mcatboost_model\u001b[0m\u001b[0;34m,\u001b[0m \u001b[0mX_train\u001b[0m\u001b[0;34m,\u001b[0m \u001b[0my_train\u001b[0m\u001b[0;34m,\u001b[0m \u001b[0mcv\u001b[0m\u001b[0;34m=\u001b[0m\u001b[0;36m5\u001b[0m\u001b[0;34m,\u001b[0m \u001b[0mscoring\u001b[0m\u001b[0;34m=\u001b[0m\u001b[0;34m'accuracy'\u001b[0m\u001b[0;34m)\u001b[0m\u001b[0;34m\u001b[0m\u001b[0;34m\u001b[0m\u001b[0m\n\u001b[0m\u001b[1;32m     22\u001b[0m \u001b[0mprint\u001b[0m\u001b[0;34m(\u001b[0m\u001b[0;34m\"Cross-Validation Scores:\"\u001b[0m\u001b[0;34m,\u001b[0m \u001b[0mcv_scores\u001b[0m\u001b[0;34m)\u001b[0m\u001b[0;34m\u001b[0m\u001b[0;34m\u001b[0m\u001b[0m\n\u001b[1;32m     23\u001b[0m \u001b[0mprint\u001b[0m\u001b[0;34m(\u001b[0m\u001b[0;34m\"Mean CV Accuracy:\"\u001b[0m\u001b[0;34m,\u001b[0m \u001b[0mcv_scores\u001b[0m\u001b[0;34m.\u001b[0m\u001b[0mmean\u001b[0m\u001b[0;34m(\u001b[0m\u001b[0;34m)\u001b[0m\u001b[0;34m)\u001b[0m\u001b[0;34m\u001b[0m\u001b[0;34m\u001b[0m\u001b[0m\n",
            "\u001b[0;32m/usr/local/lib/python3.10/dist-packages/sklearn/utils/_param_validation.py\u001b[0m in \u001b[0;36mwrapper\u001b[0;34m(*args, **kwargs)\u001b[0m\n\u001b[1;32m    214\u001b[0m                     )\n\u001b[1;32m    215\u001b[0m                 ):\n\u001b[0;32m--> 216\u001b[0;31m                     \u001b[0;32mreturn\u001b[0m \u001b[0mfunc\u001b[0m\u001b[0;34m(\u001b[0m\u001b[0;34m*\u001b[0m\u001b[0margs\u001b[0m\u001b[0;34m,\u001b[0m \u001b[0;34m**\u001b[0m\u001b[0mkwargs\u001b[0m\u001b[0;34m)\u001b[0m\u001b[0;34m\u001b[0m\u001b[0;34m\u001b[0m\u001b[0m\n\u001b[0m\u001b[1;32m    217\u001b[0m             \u001b[0;32mexcept\u001b[0m \u001b[0mInvalidParameterError\u001b[0m \u001b[0;32mas\u001b[0m \u001b[0me\u001b[0m\u001b[0;34m:\u001b[0m\u001b[0;34m\u001b[0m\u001b[0;34m\u001b[0m\u001b[0m\n\u001b[1;32m    218\u001b[0m                 \u001b[0;31m# When the function is just a wrapper around an estimator, we allow\u001b[0m\u001b[0;34m\u001b[0m\u001b[0;34m\u001b[0m\u001b[0m\n",
            "\u001b[0;32m/usr/local/lib/python3.10/dist-packages/sklearn/model_selection/_validation.py\u001b[0m in \u001b[0;36mcross_val_score\u001b[0;34m(estimator, X, y, groups, scoring, cv, n_jobs, verbose, params, pre_dispatch, error_score)\u001b[0m\n\u001b[1;32m    682\u001b[0m     \u001b[0mscorer\u001b[0m \u001b[0;34m=\u001b[0m \u001b[0mcheck_scoring\u001b[0m\u001b[0;34m(\u001b[0m\u001b[0mestimator\u001b[0m\u001b[0;34m,\u001b[0m \u001b[0mscoring\u001b[0m\u001b[0;34m=\u001b[0m\u001b[0mscoring\u001b[0m\u001b[0;34m)\u001b[0m\u001b[0;34m\u001b[0m\u001b[0;34m\u001b[0m\u001b[0m\n\u001b[1;32m    683\u001b[0m \u001b[0;34m\u001b[0m\u001b[0m\n\u001b[0;32m--> 684\u001b[0;31m     cv_results = cross_validate(\n\u001b[0m\u001b[1;32m    685\u001b[0m         \u001b[0mestimator\u001b[0m\u001b[0;34m=\u001b[0m\u001b[0mestimator\u001b[0m\u001b[0;34m,\u001b[0m\u001b[0;34m\u001b[0m\u001b[0;34m\u001b[0m\u001b[0m\n\u001b[1;32m    686\u001b[0m         \u001b[0mX\u001b[0m\u001b[0;34m=\u001b[0m\u001b[0mX\u001b[0m\u001b[0;34m,\u001b[0m\u001b[0;34m\u001b[0m\u001b[0;34m\u001b[0m\u001b[0m\n",
            "\u001b[0;32m/usr/local/lib/python3.10/dist-packages/sklearn/utils/_param_validation.py\u001b[0m in \u001b[0;36mwrapper\u001b[0;34m(*args, **kwargs)\u001b[0m\n\u001b[1;32m    214\u001b[0m                     )\n\u001b[1;32m    215\u001b[0m                 ):\n\u001b[0;32m--> 216\u001b[0;31m                     \u001b[0;32mreturn\u001b[0m \u001b[0mfunc\u001b[0m\u001b[0;34m(\u001b[0m\u001b[0;34m*\u001b[0m\u001b[0margs\u001b[0m\u001b[0;34m,\u001b[0m \u001b[0;34m**\u001b[0m\u001b[0mkwargs\u001b[0m\u001b[0;34m)\u001b[0m\u001b[0;34m\u001b[0m\u001b[0;34m\u001b[0m\u001b[0m\n\u001b[0m\u001b[1;32m    217\u001b[0m             \u001b[0;32mexcept\u001b[0m \u001b[0mInvalidParameterError\u001b[0m \u001b[0;32mas\u001b[0m \u001b[0me\u001b[0m\u001b[0;34m:\u001b[0m\u001b[0;34m\u001b[0m\u001b[0;34m\u001b[0m\u001b[0m\n\u001b[1;32m    218\u001b[0m                 \u001b[0;31m# When the function is just a wrapper around an estimator, we allow\u001b[0m\u001b[0;34m\u001b[0m\u001b[0;34m\u001b[0m\u001b[0m\n",
            "\u001b[0;32m/usr/local/lib/python3.10/dist-packages/sklearn/model_selection/_validation.py\u001b[0m in \u001b[0;36mcross_validate\u001b[0;34m(estimator, X, y, groups, scoring, cv, n_jobs, verbose, params, pre_dispatch, return_train_score, return_estimator, return_indices, error_score)\u001b[0m\n\u001b[1;32m    429\u001b[0m     )\n\u001b[1;32m    430\u001b[0m \u001b[0;34m\u001b[0m\u001b[0m\n\u001b[0;32m--> 431\u001b[0;31m     \u001b[0m_warn_or_raise_about_fit_failures\u001b[0m\u001b[0;34m(\u001b[0m\u001b[0mresults\u001b[0m\u001b[0;34m,\u001b[0m \u001b[0merror_score\u001b[0m\u001b[0;34m)\u001b[0m\u001b[0;34m\u001b[0m\u001b[0;34m\u001b[0m\u001b[0m\n\u001b[0m\u001b[1;32m    432\u001b[0m \u001b[0;34m\u001b[0m\u001b[0m\n\u001b[1;32m    433\u001b[0m     \u001b[0;31m# For callable scoring, the return type is only know after calling. If the\u001b[0m\u001b[0;34m\u001b[0m\u001b[0;34m\u001b[0m\u001b[0m\n",
            "\u001b[0;32m/usr/local/lib/python3.10/dist-packages/sklearn/model_selection/_validation.py\u001b[0m in \u001b[0;36m_warn_or_raise_about_fit_failures\u001b[0;34m(results, error_score)\u001b[0m\n\u001b[1;32m    515\u001b[0m                 \u001b[0;34mf\"Below are more details about the failures:\\n{fit_errors_summary}\"\u001b[0m\u001b[0;34m\u001b[0m\u001b[0;34m\u001b[0m\u001b[0m\n\u001b[1;32m    516\u001b[0m             )\n\u001b[0;32m--> 517\u001b[0;31m             \u001b[0;32mraise\u001b[0m \u001b[0mValueError\u001b[0m\u001b[0;34m(\u001b[0m\u001b[0mall_fits_failed_message\u001b[0m\u001b[0;34m)\u001b[0m\u001b[0;34m\u001b[0m\u001b[0;34m\u001b[0m\u001b[0m\n\u001b[0m\u001b[1;32m    518\u001b[0m \u001b[0;34m\u001b[0m\u001b[0m\n\u001b[1;32m    519\u001b[0m         \u001b[0;32melse\u001b[0m\u001b[0;34m:\u001b[0m\u001b[0;34m\u001b[0m\u001b[0;34m\u001b[0m\u001b[0m\n",
            "\u001b[0;31mValueError\u001b[0m: \nAll the 5 fits failed.\nIt is very likely that your model is misconfigured.\nYou can try to debug the error by setting error_score='raise'.\n\nBelow are more details about the failures:\n--------------------------------------------------------------------------------\n5 fits failed with the following error:\nTraceback (most recent call last):\n  File \"/usr/local/lib/python3.10/dist-packages/sklearn/model_selection/_validation.py\", line 866, in _fit_and_score\n    estimator.fit(X_train, y_train, **fit_params)\n  File \"/usr/local/lib/python3.10/dist-packages/catboost/core.py\", line 5245, in fit\n    self._fit(X, y, cat_features, text_features, embedding_features, None, graph, sample_weight, None, None, None, None, baseline, use_best_model,\n  File \"/usr/local/lib/python3.10/dist-packages/catboost/core.py\", line 2395, in _fit\n    train_params = self._prepare_train_params(\n  File \"/usr/local/lib/python3.10/dist-packages/catboost/core.py\", line 2275, in _prepare_train_params\n    train_pool = _build_train_pool(X, y, cat_features, text_features, embedding_features, pairs, graph,\n  File \"/usr/local/lib/python3.10/dist-packages/catboost/core.py\", line 1513, in _build_train_pool\n    train_pool = Pool(X, y, cat_features=cat_features, text_features=text_features, embedding_features=embedding_features, pairs=pairs, graph=graph, weight=sample_weight, group_id=group_id,\n  File \"/usr/local/lib/python3.10/dist-packages/catboost/core.py\", line 855, in __init__\n    self._init(data, label, cat_features, text_features, embedding_features, embedding_features_data, pairs, graph, weight,\n  File \"/usr/local/lib/python3.10/dist-packages/catboost/core.py\", line 1491, in _init\n    self._init_pool(data, label, cat_features, text_features, embedding_features, embedding_features_data, pairs, graph, weight,\n  File \"_catboost.pyx\", line 4339, in _catboost._PoolBase._init_pool\n  File \"_catboost.pyx\", line 4362, in _catboost._PoolBase._init_pool\n  File \"_catboost.pyx\", line 2323, in _catboost._init_features_layout\n_catboost.CatBoostError: catboost/libs/data/features_layout.cpp:124: All feature names should be different, but 'nan' used more than once.\n"
          ]
        }
      ]
    },
    {
      "cell_type": "code",
      "source": [
        "# 데이터프레임에서 중복된 열 이름 확인\n",
        "print(df.columns[df.columns.duplicated()])\n"
      ],
      "metadata": {
        "colab": {
          "base_uri": "https://localhost:8080/"
        },
        "id": "pAJ0SPwcvG0I",
        "outputId": "7bcd806c-7ec9-459b-cdb7-83b8f5735b47"
      },
      "execution_count": null,
      "outputs": [
        {
          "output_type": "stream",
          "name": "stdout",
          "text": [
            "Index([nan, nan, nan, nan, nan, nan, nan, nan, nan], dtype='object', name=1)\n"
          ]
        }
      ]
    },
    {
      "cell_type": "code",
      "source": [
        "df = df.loc[:, ~df.columns.duplicated()]\n"
      ],
      "metadata": {
        "id": "9uTcr1SYvK2L"
      },
      "execution_count": null,
      "outputs": []
    },
    {
      "cell_type": "code",
      "source": [
        "# 결측치 확인\n",
        "print(df.isnull().sum())\n",
        "\n",
        "# 결측치를 평균값으로 채우기\n",
        "df = df.fillna(df.mean())\n",
        "\n",
        "# 또는, 결측치가 많으면 해당 열 삭제\n",
        "df = df.dropna(axis=1)\n"
      ],
      "metadata": {
        "colab": {
          "base_uri": "https://localhost:8080/"
        },
        "id": "NHGoAaIJvMem",
        "outputId": "2d19bfe6-3975-4fc5-9e2e-1f1f26dd49da"
      },
      "execution_count": null,
      "outputs": [
        {
          "output_type": "stream",
          "name": "stdout",
          "text": [
            "1\n",
            "NaN     0\n",
            "Type    0\n",
            "dtype: int64\n"
          ]
        }
      ]
    },
    {
      "cell_type": "code",
      "source": [
        "from catboost import CatBoostClassifier\n",
        "from sklearn.model_selection import train_test_split, cross_val_score\n",
        "from sklearn.metrics import accuracy_score, classification_report\n",
        "from sklearn.preprocessing import LabelEncoder\n",
        "\n",
        "# 데이터 준비\n",
        "X = df.drop(columns=['Type'])  # 독립 변수\n",
        "y = df['Type']  # 종속 변수\n",
        "\n",
        "# 결측치 처리\n",
        "X = X.fillna(X.mean())  # 결측치를 평균값으로 채움\n",
        "\n",
        "# 중복된 열 이름 제거\n",
        "X = X.loc[:, ~X.columns.duplicated()]\n",
        "\n",
        "# 레이블 인코딩\n",
        "label_encoder = LabelEncoder()\n",
        "y_encoded = label_encoder.fit_transform(y)\n",
        "\n",
        "# 데이터 나누기\n",
        "X_train, X_test, y_train, y_test = train_test_split(X, y_encoded, test_size=0.2, random_state=42)\n",
        "\n",
        "# 모델 생성\n",
        "catboost_model = CatBoostClassifier(iterations=100, learning_rate=0.1, depth=6, random_state=42, verbose=0)\n",
        "\n",
        "# 교차검증\n",
        "cv_scores = cross_val_score(catboost_model, X_train, y_train, cv=5, scoring='accuracy')\n",
        "print(\"Cross-Validation Scores:\", cv_scores)\n",
        "print(\"Mean CV Accuracy:\", cv_scores.mean())\n",
        "\n",
        "# 모델 학습\n",
        "catboost_model.fit(X_train, y_train)\n",
        "\n",
        "# 테스트 데이터로 예측\n",
        "y_pred = catboost_model.predict(X_test)\n",
        "\n",
        "# 성능 평가\n",
        "print(\"\\nTest Accuracy:\", accuracy_score(y_test, y_pred))\n",
        "print(\"\\nClassification Report:\\n\", classification_report(y_test, y_pred, target_names=label_encoder.classes_.astype(str)))\n"
      ],
      "metadata": {
        "colab": {
          "base_uri": "https://localhost:8080/"
        },
        "id": "fbcD9fGRvPDE",
        "outputId": "9f38d8bb-1efb-438c-a1ed-a9d1e3298e62"
      },
      "execution_count": null,
      "outputs": [
        {
          "output_type": "stream",
          "name": "stdout",
          "text": [
            "Cross-Validation Scores: [0.94117647 0.97058824 0.97058824 1.         1.        ]\n",
            "Mean CV Accuracy: 0.9764705882352942\n",
            "\n",
            "Test Accuracy: 0.9534883720930233\n",
            "\n",
            "Classification Report:\n",
            "               precision    recall  f1-score   support\n",
            "\n",
            "           1       0.90      1.00      0.95         9\n",
            "           2       1.00      0.94      0.97        17\n",
            "           3       1.00      1.00      1.00         4\n",
            "           5       1.00      1.00      1.00         3\n",
            "           6       0.67      1.00      0.80         2\n",
            "           7       1.00      0.88      0.93         8\n",
            "\n",
            "    accuracy                           0.95        43\n",
            "   macro avg       0.93      0.97      0.94        43\n",
            "weighted avg       0.96      0.95      0.96        43\n",
            "\n"
          ]
        }
      ]
    }
  ]
}